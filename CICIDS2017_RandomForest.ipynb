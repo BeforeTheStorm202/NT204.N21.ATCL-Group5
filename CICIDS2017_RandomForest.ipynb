{
  "nbformat": 4,
  "nbformat_minor": 0,
  "metadata": {
    "colab": {
      "provenance": [],
      "mount_file_id": "1Kf_YOUwF7ezjGIw1cPK1fqu1UM4S_Qco",
      "authorship_tag": "ABX9TyM6/XgaqsHdEwAaglGMkD4J",
      "include_colab_link": true
    },
    "kernelspec": {
      "name": "python3",
      "display_name": "Python 3"
    },
    "language_info": {
      "name": "python"
    }
  },
  "cells": [
    {
      "cell_type": "markdown",
      "metadata": {
        "id": "view-in-github",
        "colab_type": "text"
      },
      "source": [
        "<a href=\"https://colab.research.google.com/github/BeforeTheStorm202/NT204.N21.ATCL-Group5/blob/main/CICIDS2017_RandomForest.ipynb\" target=\"_parent\"><img src=\"https://colab.research.google.com/assets/colab-badge.svg\" alt=\"Open In Colab\"/></a>"
      ]
    },
    {
      "cell_type": "code",
      "source": [
        "import pandas as pd"
      ],
      "metadata": {
        "id": "4YNllEebPAKY"
      },
      "execution_count": null,
      "outputs": []
    },
    {
      "cell_type": "markdown",
      "source": [
        "# Load train & test dataset with rare data class (after CTGAN resampling)"
      ],
      "metadata": {
        "id": "6f4Mjz7yOV90"
      }
    },
    {
      "cell_type": "code",
      "execution_count": null,
      "metadata": {
        "id": "_0qz9B8BNvB_"
      },
      "outputs": [],
      "source": [
        "train_link = '/content/drive/MyDrive/Dataset/CICIDS2017/train and test/train_data.csv'\n",
        "rare_link = '/content/drive/MyDrive/Dataset/CICIDS2017/train and test/resampling.csv'\n",
        "test_link = '/content/drive/MyDrive/Dataset/CICIDS2017/train and test/test_data.csv'"
      ]
    },
    {
      "cell_type": "code",
      "source": [
        "train = pd.read_csv(train_link)\n",
        "train.info()"
      ],
      "metadata": {
        "colab": {
          "base_uri": "https://localhost:8080/"
        },
        "id": "vKZ5XlApOzW_",
        "outputId": "51199b7f-4356-432e-87c0-11098b6caac0"
      },
      "execution_count": 36,
      "outputs": [
        {
          "output_type": "stream",
          "name": "stdout",
          "text": [
            "<class 'pandas.core.frame.DataFrame'>\n",
            "RangeIndex: 1696725 entries, 0 to 1696724\n",
            "Data columns (total 78 columns):\n",
            " #   Column                       Dtype  \n",
            "---  ------                       -----  \n",
            " 0   Flow Duration                int64  \n",
            " 1   Total Fwd Packets            int64  \n",
            " 2   Total Backward Packets       int64  \n",
            " 3   Total Length of Fwd Packets  int64  \n",
            " 4   Total Length of Bwd Packets  int64  \n",
            " 5   Fwd Packet Length Max        int64  \n",
            " 6   Fwd Packet Length Min        int64  \n",
            " 7   Fwd Packet Length Mean       float64\n",
            " 8   Fwd Packet Length Std        float64\n",
            " 9   Bwd Packet Length Max        int64  \n",
            " 10  Bwd Packet Length Min        int64  \n",
            " 11  Bwd Packet Length Mean       float64\n",
            " 12  Bwd Packet Length Std        float64\n",
            " 13  Flow Bytes/s                 float64\n",
            " 14  Flow Packets/s               float64\n",
            " 15  Flow IAT Mean                float64\n",
            " 16  Flow IAT Std                 float64\n",
            " 17  Flow IAT Max                 int64  \n",
            " 18  Flow IAT Min                 int64  \n",
            " 19  Fwd IAT Total                int64  \n",
            " 20  Fwd IAT Mean                 float64\n",
            " 21  Fwd IAT Std                  float64\n",
            " 22  Fwd IAT Max                  int64  \n",
            " 23  Fwd IAT Min                  int64  \n",
            " 24  Bwd IAT Total                int64  \n",
            " 25  Bwd IAT Mean                 float64\n",
            " 26  Bwd IAT Std                  float64\n",
            " 27  Bwd IAT Max                  int64  \n",
            " 28  Bwd IAT Min                  int64  \n",
            " 29  Fwd PSH Flags                int64  \n",
            " 30  Bwd PSH Flags                int64  \n",
            " 31  Fwd URG Flags                int64  \n",
            " 32  Bwd URG Flags                int64  \n",
            " 33  Fwd Header Length            int64  \n",
            " 34  Bwd Header Length            int64  \n",
            " 35  Fwd Packets/s                float64\n",
            " 36  Bwd Packets/s                float64\n",
            " 37  Min Packet Length            int64  \n",
            " 38  Max Packet Length            int64  \n",
            " 39  Packet Length Mean           float64\n",
            " 40  Packet Length Std            float64\n",
            " 41  Packet Length Variance       float64\n",
            " 42  FIN Flag Count               int64  \n",
            " 43  SYN Flag Count               int64  \n",
            " 44  RST Flag Count               int64  \n",
            " 45  PSH Flag Count               int64  \n",
            " 46  ACK Flag Count               int64  \n",
            " 47  URG Flag Count               int64  \n",
            " 48  CWE Flag Count               int64  \n",
            " 49  ECE Flag Count               int64  \n",
            " 50  Down/Up Ratio                int64  \n",
            " 51  Average Packet Size          float64\n",
            " 52  Avg Fwd Segment Size         float64\n",
            " 53  Avg Bwd Segment Size         float64\n",
            " 54  Fwd Header Length.1          int64  \n",
            " 55  Fwd Avg Bytes/Bulk           int64  \n",
            " 56  Fwd Avg Packets/Bulk         int64  \n",
            " 57  Fwd Avg Bulk Rate            int64  \n",
            " 58  Bwd Avg Bytes/Bulk           int64  \n",
            " 59  Bwd Avg Packets/Bulk         int64  \n",
            " 60  Bwd Avg Bulk Rate            int64  \n",
            " 61  Subflow Fwd Packets          int64  \n",
            " 62  Subflow Fwd Bytes            int64  \n",
            " 63  Subflow Bwd Packets          int64  \n",
            " 64  Subflow Bwd Bytes            int64  \n",
            " 65  Init_Win_bytes_forward       int64  \n",
            " 66  Init_Win_bytes_backward      int64  \n",
            " 67  act_data_pkt_fwd             int64  \n",
            " 68  min_seg_size_forward         int64  \n",
            " 69  Active Mean                  float64\n",
            " 70  Active Std                   float64\n",
            " 71  Active Max                   int64  \n",
            " 72  Active Min                   int64  \n",
            " 73  Idle Mean                    float64\n",
            " 74  Idle Std                     float64\n",
            " 75  Idle Max                     int64  \n",
            " 76  Idle Min                     int64  \n",
            " 77  Label                        object \n",
            "dtypes: float64(24), int64(53), object(1)\n",
            "memory usage: 1009.7+ MB\n"
          ]
        }
      ]
    },
    {
      "cell_type": "code",
      "source": [
        "rare = pd.read_csv(rare_link)\n",
        "rare.info()"
      ],
      "metadata": {
        "colab": {
          "base_uri": "https://localhost:8080/"
        },
        "id": "Oullg7b4PMBW",
        "outputId": "3039a74e-412d-45d6-dcfa-cca9c41a05e3"
      },
      "execution_count": 37,
      "outputs": [
        {
          "output_type": "stream",
          "name": "stdout",
          "text": [
            "<class 'pandas.core.frame.DataFrame'>\n",
            "RangeIndex: 30000 entries, 0 to 29999\n",
            "Data columns (total 78 columns):\n",
            " #   Column                       Non-Null Count  Dtype  \n",
            "---  ------                       --------------  -----  \n",
            " 0   Flow Duration                30000 non-null  int64  \n",
            " 1   Total Fwd Packets            30000 non-null  int64  \n",
            " 2   Total Backward Packets       30000 non-null  int64  \n",
            " 3   Total Length of Fwd Packets  30000 non-null  int64  \n",
            " 4   Total Length of Bwd Packets  30000 non-null  int64  \n",
            " 5   Fwd Packet Length Max        30000 non-null  int64  \n",
            " 6   Fwd Packet Length Min        30000 non-null  int64  \n",
            " 7   Fwd Packet Length Mean       30000 non-null  float64\n",
            " 8   Fwd Packet Length Std        30000 non-null  float64\n",
            " 9   Bwd Packet Length Max        30000 non-null  int64  \n",
            " 10  Bwd Packet Length Min        30000 non-null  int64  \n",
            " 11  Bwd Packet Length Mean       30000 non-null  float64\n",
            " 12  Bwd Packet Length Std        30000 non-null  float64\n",
            " 13  Flow Bytes/s                 30000 non-null  float64\n",
            " 14  Flow Packets/s               30000 non-null  float64\n",
            " 15  Flow IAT Mean                30000 non-null  float64\n",
            " 16  Flow IAT Std                 30000 non-null  float64\n",
            " 17  Flow IAT Max                 30000 non-null  int64  \n",
            " 18  Flow IAT Min                 30000 non-null  int64  \n",
            " 19  Fwd IAT Total                30000 non-null  int64  \n",
            " 20  Fwd IAT Mean                 30000 non-null  float64\n",
            " 21  Fwd IAT Std                  30000 non-null  float64\n",
            " 22  Fwd IAT Max                  30000 non-null  int64  \n",
            " 23  Fwd IAT Min                  30000 non-null  int64  \n",
            " 24  Bwd IAT Total                30000 non-null  int64  \n",
            " 25  Bwd IAT Mean                 30000 non-null  float64\n",
            " 26  Bwd IAT Std                  30000 non-null  float64\n",
            " 27  Bwd IAT Max                  30000 non-null  int64  \n",
            " 28  Bwd IAT Min                  30000 non-null  int64  \n",
            " 29  Fwd PSH Flags                30000 non-null  int64  \n",
            " 30  Bwd PSH Flags                30000 non-null  int64  \n",
            " 31  Fwd URG Flags                30000 non-null  int64  \n",
            " 32  Bwd URG Flags                30000 non-null  int64  \n",
            " 33  Fwd Header Length            30000 non-null  int64  \n",
            " 34  Bwd Header Length            30000 non-null  int64  \n",
            " 35  Fwd Packets/s                30000 non-null  float64\n",
            " 36  Bwd Packets/s                30000 non-null  float64\n",
            " 37  Min Packet Length            30000 non-null  int64  \n",
            " 38  Max Packet Length            30000 non-null  int64  \n",
            " 39  Packet Length Mean           30000 non-null  float64\n",
            " 40  Packet Length Std            30000 non-null  float64\n",
            " 41  Packet Length Variance       30000 non-null  float64\n",
            " 42  FIN Flag Count               30000 non-null  int64  \n",
            " 43  SYN Flag Count               30000 non-null  int64  \n",
            " 44  RST Flag Count               30000 non-null  int64  \n",
            " 45  PSH Flag Count               30000 non-null  int64  \n",
            " 46  ACK Flag Count               30000 non-null  int64  \n",
            " 47  URG Flag Count               30000 non-null  int64  \n",
            " 48  CWE Flag Count               30000 non-null  int64  \n",
            " 49  ECE Flag Count               30000 non-null  int64  \n",
            " 50  Down/Up Ratio                30000 non-null  int64  \n",
            " 51  Average Packet Size          30000 non-null  float64\n",
            " 52  Avg Fwd Segment Size         30000 non-null  float64\n",
            " 53  Avg Bwd Segment Size         30000 non-null  float64\n",
            " 54  Fwd Header Length.1          30000 non-null  int64  \n",
            " 55  Fwd Avg Bytes/Bulk           30000 non-null  int64  \n",
            " 56  Fwd Avg Packets/Bulk         30000 non-null  int64  \n",
            " 57  Fwd Avg Bulk Rate            30000 non-null  int64  \n",
            " 58  Bwd Avg Bytes/Bulk           30000 non-null  int64  \n",
            " 59  Bwd Avg Packets/Bulk         30000 non-null  int64  \n",
            " 60  Bwd Avg Bulk Rate            30000 non-null  int64  \n",
            " 61  Subflow Fwd Packets          30000 non-null  int64  \n",
            " 62  Subflow Fwd Bytes            30000 non-null  int64  \n",
            " 63  Subflow Bwd Packets          30000 non-null  int64  \n",
            " 64  Subflow Bwd Bytes            30000 non-null  int64  \n",
            " 65  Init_Win_bytes_forward       30000 non-null  int64  \n",
            " 66  Init_Win_bytes_backward      30000 non-null  int64  \n",
            " 67  act_data_pkt_fwd             30000 non-null  int64  \n",
            " 68  min_seg_size_forward         30000 non-null  int64  \n",
            " 69  Active Mean                  30000 non-null  float64\n",
            " 70  Active Std                   30000 non-null  float64\n",
            " 71  Active Max                   30000 non-null  int64  \n",
            " 72  Active Min                   30000 non-null  int64  \n",
            " 73  Idle Mean                    30000 non-null  float64\n",
            " 74  Idle Std                     30000 non-null  float64\n",
            " 75  Idle Max                     30000 non-null  int64  \n",
            " 76  Idle Min                     30000 non-null  int64  \n",
            " 77  Label                        30000 non-null  object \n",
            "dtypes: float64(24), int64(53), object(1)\n",
            "memory usage: 17.9+ MB\n"
          ]
        }
      ]
    },
    {
      "cell_type": "code",
      "source": [
        "trainset = pd.concat([train, rare], ignore_index=True)\n",
        "trainset.info()"
      ],
      "metadata": {
        "colab": {
          "base_uri": "https://localhost:8080/"
        },
        "id": "nRNYAhHrPavX",
        "outputId": "44baa9ec-1fe3-4dc0-eeb6-fa53ce95a834"
      },
      "execution_count": 38,
      "outputs": [
        {
          "output_type": "stream",
          "name": "stdout",
          "text": [
            "<class 'pandas.core.frame.DataFrame'>\n",
            "RangeIndex: 1726725 entries, 0 to 1726724\n",
            "Data columns (total 78 columns):\n",
            " #   Column                       Dtype  \n",
            "---  ------                       -----  \n",
            " 0   Flow Duration                int64  \n",
            " 1   Total Fwd Packets            int64  \n",
            " 2   Total Backward Packets       int64  \n",
            " 3   Total Length of Fwd Packets  int64  \n",
            " 4   Total Length of Bwd Packets  int64  \n",
            " 5   Fwd Packet Length Max        int64  \n",
            " 6   Fwd Packet Length Min        int64  \n",
            " 7   Fwd Packet Length Mean       float64\n",
            " 8   Fwd Packet Length Std        float64\n",
            " 9   Bwd Packet Length Max        int64  \n",
            " 10  Bwd Packet Length Min        int64  \n",
            " 11  Bwd Packet Length Mean       float64\n",
            " 12  Bwd Packet Length Std        float64\n",
            " 13  Flow Bytes/s                 float64\n",
            " 14  Flow Packets/s               float64\n",
            " 15  Flow IAT Mean                float64\n",
            " 16  Flow IAT Std                 float64\n",
            " 17  Flow IAT Max                 int64  \n",
            " 18  Flow IAT Min                 int64  \n",
            " 19  Fwd IAT Total                int64  \n",
            " 20  Fwd IAT Mean                 float64\n",
            " 21  Fwd IAT Std                  float64\n",
            " 22  Fwd IAT Max                  int64  \n",
            " 23  Fwd IAT Min                  int64  \n",
            " 24  Bwd IAT Total                int64  \n",
            " 25  Bwd IAT Mean                 float64\n",
            " 26  Bwd IAT Std                  float64\n",
            " 27  Bwd IAT Max                  int64  \n",
            " 28  Bwd IAT Min                  int64  \n",
            " 29  Fwd PSH Flags                int64  \n",
            " 30  Bwd PSH Flags                int64  \n",
            " 31  Fwd URG Flags                int64  \n",
            " 32  Bwd URG Flags                int64  \n",
            " 33  Fwd Header Length            int64  \n",
            " 34  Bwd Header Length            int64  \n",
            " 35  Fwd Packets/s                float64\n",
            " 36  Bwd Packets/s                float64\n",
            " 37  Min Packet Length            int64  \n",
            " 38  Max Packet Length            int64  \n",
            " 39  Packet Length Mean           float64\n",
            " 40  Packet Length Std            float64\n",
            " 41  Packet Length Variance       float64\n",
            " 42  FIN Flag Count               int64  \n",
            " 43  SYN Flag Count               int64  \n",
            " 44  RST Flag Count               int64  \n",
            " 45  PSH Flag Count               int64  \n",
            " 46  ACK Flag Count               int64  \n",
            " 47  URG Flag Count               int64  \n",
            " 48  CWE Flag Count               int64  \n",
            " 49  ECE Flag Count               int64  \n",
            " 50  Down/Up Ratio                int64  \n",
            " 51  Average Packet Size          float64\n",
            " 52  Avg Fwd Segment Size         float64\n",
            " 53  Avg Bwd Segment Size         float64\n",
            " 54  Fwd Header Length.1          int64  \n",
            " 55  Fwd Avg Bytes/Bulk           int64  \n",
            " 56  Fwd Avg Packets/Bulk         int64  \n",
            " 57  Fwd Avg Bulk Rate            int64  \n",
            " 58  Bwd Avg Bytes/Bulk           int64  \n",
            " 59  Bwd Avg Packets/Bulk         int64  \n",
            " 60  Bwd Avg Bulk Rate            int64  \n",
            " 61  Subflow Fwd Packets          int64  \n",
            " 62  Subflow Fwd Bytes            int64  \n",
            " 63  Subflow Bwd Packets          int64  \n",
            " 64  Subflow Bwd Bytes            int64  \n",
            " 65  Init_Win_bytes_forward       int64  \n",
            " 66  Init_Win_bytes_backward      int64  \n",
            " 67  act_data_pkt_fwd             int64  \n",
            " 68  min_seg_size_forward         int64  \n",
            " 69  Active Mean                  float64\n",
            " 70  Active Std                   float64\n",
            " 71  Active Max                   int64  \n",
            " 72  Active Min                   int64  \n",
            " 73  Idle Mean                    float64\n",
            " 74  Idle Std                     float64\n",
            " 75  Idle Max                     int64  \n",
            " 76  Idle Min                     int64  \n",
            " 77  Label                        object \n",
            "dtypes: float64(24), int64(53), object(1)\n",
            "memory usage: 1.0+ GB\n"
          ]
        }
      ]
    },
    {
      "cell_type": "code",
      "source": [
        "import gc\n",
        "del rare\n",
        "gc.collect()"
      ],
      "metadata": {
        "id": "G2qW6ZPRVOYa",
        "colab": {
          "base_uri": "https://localhost:8080/"
        },
        "outputId": "a51e80ae-aec0-4389-c152-6cb3cafdd87d"
      },
      "execution_count": 39,
      "outputs": [
        {
          "output_type": "execute_result",
          "data": {
            "text/plain": [
              "8"
            ]
          },
          "metadata": {},
          "execution_count": 39
        }
      ]
    },
    {
      "cell_type": "code",
      "source": [
        "testset = pd.read_csv(test_link)\n",
        "testset.info()"
      ],
      "metadata": {
        "colab": {
          "base_uri": "https://localhost:8080/"
        },
        "id": "PuGytTFtPjVN",
        "outputId": "c9f5ff2b-5d00-47d7-9291-aed483eaa435"
      },
      "execution_count": null,
      "outputs": [
        {
          "output_type": "stream",
          "name": "stdout",
          "text": [
            "<class 'pandas.core.frame.DataFrame'>\n",
            "RangeIndex: 1131151 entries, 0 to 1131150\n",
            "Data columns (total 78 columns):\n",
            " #   Column                       Non-Null Count    Dtype  \n",
            "---  ------                       --------------    -----  \n",
            " 0   Flow Duration                1131151 non-null  int64  \n",
            " 1   Total Fwd Packets            1131151 non-null  int64  \n",
            " 2   Total Backward Packets       1131151 non-null  int64  \n",
            " 3   Total Length of Fwd Packets  1131151 non-null  int64  \n",
            " 4   Total Length of Bwd Packets  1131151 non-null  int64  \n",
            " 5   Fwd Packet Length Max        1131151 non-null  int64  \n",
            " 6   Fwd Packet Length Min        1131151 non-null  int64  \n",
            " 7   Fwd Packet Length Mean       1131151 non-null  float64\n",
            " 8   Fwd Packet Length Std        1131151 non-null  float64\n",
            " 9   Bwd Packet Length Max        1131151 non-null  int64  \n",
            " 10  Bwd Packet Length Min        1131151 non-null  int64  \n",
            " 11  Bwd Packet Length Mean       1131151 non-null  float64\n",
            " 12  Bwd Packet Length Std        1131151 non-null  float64\n",
            " 13  Flow Bytes/s                 1131151 non-null  float64\n",
            " 14  Flow Packets/s               1131151 non-null  float64\n",
            " 15  Flow IAT Mean                1131151 non-null  float64\n",
            " 16  Flow IAT Std                 1131151 non-null  float64\n",
            " 17  Flow IAT Max                 1131151 non-null  int64  \n",
            " 18  Flow IAT Min                 1131151 non-null  int64  \n",
            " 19  Fwd IAT Total                1131151 non-null  int64  \n",
            " 20  Fwd IAT Mean                 1131151 non-null  float64\n",
            " 21  Fwd IAT Std                  1131151 non-null  float64\n",
            " 22  Fwd IAT Max                  1131151 non-null  int64  \n",
            " 23  Fwd IAT Min                  1131151 non-null  int64  \n",
            " 24  Bwd IAT Total                1131151 non-null  int64  \n",
            " 25  Bwd IAT Mean                 1131151 non-null  float64\n",
            " 26  Bwd IAT Std                  1131151 non-null  float64\n",
            " 27  Bwd IAT Max                  1131151 non-null  int64  \n",
            " 28  Bwd IAT Min                  1131151 non-null  int64  \n",
            " 29  Fwd PSH Flags                1131151 non-null  int64  \n",
            " 30  Bwd PSH Flags                1131151 non-null  int64  \n",
            " 31  Fwd URG Flags                1131151 non-null  int64  \n",
            " 32  Bwd URG Flags                1131151 non-null  int64  \n",
            " 33  Fwd Header Length            1131151 non-null  int64  \n",
            " 34  Bwd Header Length            1131151 non-null  int64  \n",
            " 35  Fwd Packets/s                1131151 non-null  float64\n",
            " 36  Bwd Packets/s                1131151 non-null  float64\n",
            " 37  Min Packet Length            1131151 non-null  int64  \n",
            " 38  Max Packet Length            1131151 non-null  int64  \n",
            " 39  Packet Length Mean           1131151 non-null  float64\n",
            " 40  Packet Length Std            1131151 non-null  float64\n",
            " 41  Packet Length Variance       1131151 non-null  float64\n",
            " 42  FIN Flag Count               1131151 non-null  int64  \n",
            " 43  SYN Flag Count               1131151 non-null  int64  \n",
            " 44  RST Flag Count               1131151 non-null  int64  \n",
            " 45  PSH Flag Count               1131151 non-null  int64  \n",
            " 46  ACK Flag Count               1131151 non-null  int64  \n",
            " 47  URG Flag Count               1131151 non-null  int64  \n",
            " 48  CWE Flag Count               1131151 non-null  int64  \n",
            " 49  ECE Flag Count               1131151 non-null  int64  \n",
            " 50  Down/Up Ratio                1131151 non-null  int64  \n",
            " 51  Average Packet Size          1131151 non-null  float64\n",
            " 52  Avg Fwd Segment Size         1131151 non-null  float64\n",
            " 53  Avg Bwd Segment Size         1131151 non-null  float64\n",
            " 54  Fwd Header Length.1          1131151 non-null  int64  \n",
            " 55  Fwd Avg Bytes/Bulk           1131151 non-null  int64  \n",
            " 56  Fwd Avg Packets/Bulk         1131151 non-null  int64  \n",
            " 57  Fwd Avg Bulk Rate            1131151 non-null  int64  \n",
            " 58  Bwd Avg Bytes/Bulk           1131151 non-null  int64  \n",
            " 59  Bwd Avg Packets/Bulk         1131151 non-null  int64  \n",
            " 60  Bwd Avg Bulk Rate            1131151 non-null  int64  \n",
            " 61  Subflow Fwd Packets          1131151 non-null  int64  \n",
            " 62  Subflow Fwd Bytes            1131151 non-null  int64  \n",
            " 63  Subflow Bwd Packets          1131151 non-null  int64  \n",
            " 64  Subflow Bwd Bytes            1131151 non-null  int64  \n",
            " 65  Init_Win_bytes_forward       1131151 non-null  int64  \n",
            " 66  Init_Win_bytes_backward      1131151 non-null  int64  \n",
            " 67  act_data_pkt_fwd             1131151 non-null  int64  \n",
            " 68  min_seg_size_forward         1131151 non-null  int64  \n",
            " 69  Active Mean                  1131151 non-null  float64\n",
            " 70  Active Std                   1131151 non-null  float64\n",
            " 71  Active Max                   1131151 non-null  int64  \n",
            " 72  Active Min                   1131151 non-null  int64  \n",
            " 73  Idle Mean                    1131151 non-null  float64\n",
            " 74  Idle Std                     1131151 non-null  float64\n",
            " 75  Idle Max                     1131151 non-null  int64  \n",
            " 76  Idle Min                     1131151 non-null  int64  \n",
            " 77  Label                        1131151 non-null  object \n",
            "dtypes: float64(24), int64(53), object(1)\n",
            "memory usage: 673.1+ MB\n"
          ]
        }
      ]
    },
    {
      "cell_type": "markdown",
      "source": [
        "#Encode categorical data"
      ],
      "metadata": {
        "id": "mR4cDHJQPv6R"
      }
    },
    {
      "cell_type": "code",
      "source": [
        "# Print count of each type\n",
        "print(trainset['Label'].value_counts())"
      ],
      "metadata": {
        "id": "Gr32WUChQzX8",
        "colab": {
          "base_uri": "https://localhost:8080/"
        },
        "outputId": "0a100cbe-a576-4ec0-fcda-3b8d64f44a18"
      },
      "execution_count": 40,
      "outputs": [
        {
          "output_type": "stream",
          "name": "stdout",
          "text": [
            "BENIGN              1361979\n",
            "DoS Hulk             138547\n",
            "PortScan              95405\n",
            "DDoS                  76909\n",
            "Bot                   11167\n",
            "Infiltration          10025\n",
            "Heartbleed            10006\n",
            "DoS GoldenEye          6207\n",
            "FTP-Patator            4744\n",
            "SSH-Patator            3583\n",
            "DoS slowloris          3498\n",
            "DoS Slowhttptest       3329\n",
            "Web Attack             1326\n",
            "Name: Label, dtype: int64\n"
          ]
        }
      ]
    },
    {
      "cell_type": "code",
      "source": [
        "trainset_label = trainset['Label'].map({\n",
        "    'BENIGN': 0,\n",
        "    'DoS Hulk': 1,        \n",
        "    'DoS GoldenEye': 2, \n",
        "    'DoS slowloris': 3,       \n",
        "    'DoS Slowhttptest': 4,\n",
        "    'DDoS': 5, \n",
        "    'PortScan': 6, \n",
        "    'FTP-Patator': 7, \n",
        "    'SSH-Patator': 8, \n",
        "    'Web Attack': 9, \n",
        "    'Bot': 10, \n",
        "    'Infiltration': 11,\n",
        "    'Heartbleed': 12,     \n",
        "})"
      ],
      "metadata": {
        "id": "dBKDd5ZuPp8J"
      },
      "execution_count": 41,
      "outputs": []
    },
    {
      "cell_type": "code",
      "source": [
        "trainset.drop('Label', axis=1, inplace=True)"
      ],
      "metadata": {
        "id": "3gbLp2-8U4rF"
      },
      "execution_count": 42,
      "outputs": []
    },
    {
      "cell_type": "code",
      "source": [
        "trainset_label.head(5)"
      ],
      "metadata": {
        "colab": {
          "base_uri": "https://localhost:8080/"
        },
        "id": "yod0awpEURyO",
        "outputId": "c55f33c3-4d78-46e5-e8e5-c79c90091a49"
      },
      "execution_count": 43,
      "outputs": [
        {
          "output_type": "execute_result",
          "data": {
            "text/plain": [
              "0    0\n",
              "1    0\n",
              "2    0\n",
              "3    0\n",
              "4    0\n",
              "Name: Label, dtype: int64"
            ]
          },
          "metadata": {},
          "execution_count": 43
        }
      ]
    },
    {
      "cell_type": "code",
      "source": [
        "# Print count of each type\n",
        "print(testset['Label'].value_counts())"
      ],
      "metadata": {
        "id": "TZhZ7YFZQeSq",
        "colab": {
          "base_uri": "https://localhost:8080/"
        },
        "outputId": "8f2b2e6e-43e0-4bc3-ebf4-4e98d6e4038d"
      },
      "execution_count": null,
      "outputs": [
        {
          "output_type": "stream",
          "name": "stdout",
          "text": [
            "BENIGN              909341\n",
            "DoS Hulk             91577\n",
            "PortScan             63399\n",
            "DDoS                 51116\n",
            "DoS GoldenEye         4086\n",
            "FTP-Patator           3191\n",
            "SSH-Patator           2314\n",
            "DoS slowloris         2298\n",
            "DoS Slowhttptest      2170\n",
            "Web Attack             854\n",
            "Bot                    789\n",
            "Infiltration            11\n",
            "Heartbleed               5\n",
            "Name: Label, dtype: int64\n"
          ]
        }
      ]
    },
    {
      "cell_type": "code",
      "source": [
        "testset_label = testset['Label'].map({\n",
        "    'BENIGN': 0,\n",
        "    'DoS Hulk': 1,        \n",
        "    'DoS GoldenEye': 2, \n",
        "    'DoS slowloris': 3,       \n",
        "    'DoS Slowhttptest': 4,\n",
        "    'DDoS': 5, \n",
        "    'PortScan': 6, \n",
        "    'FTP-Patator': 7, \n",
        "    'SSH-Patator': 8, \n",
        "    'Web Attack': 9, \n",
        "    'Bot': 10, \n",
        "    'Infiltration': 11,\n",
        "    'Heartbleed': 12,     \n",
        "})"
      ],
      "metadata": {
        "id": "EFP-RxbEQLu2"
      },
      "execution_count": null,
      "outputs": []
    },
    {
      "cell_type": "code",
      "source": [
        "testset.drop('Label', axis=1, inplace=True)"
      ],
      "metadata": {
        "id": "uVFQAyO0U-Pw"
      },
      "execution_count": null,
      "outputs": []
    },
    {
      "cell_type": "code",
      "source": [
        "testset_label.head(5)"
      ],
      "metadata": {
        "colab": {
          "base_uri": "https://localhost:8080/"
        },
        "id": "4mV-X7c9TxKS",
        "outputId": "78928754-ec5f-4368-be88-2e47196e43f9"
      },
      "execution_count": null,
      "outputs": [
        {
          "output_type": "execute_result",
          "data": {
            "text/plain": [
              "0    6\n",
              "1    0\n",
              "2    0\n",
              "3    0\n",
              "4    0\n",
              "Name: Label, dtype: int64"
            ]
          },
          "metadata": {},
          "execution_count": 10
        }
      ]
    },
    {
      "cell_type": "markdown",
      "source": [
        "# Random Forest modeling"
      ],
      "metadata": {
        "id": "ZDY8FNemSPkf"
      }
    },
    {
      "cell_type": "code",
      "source": [
        "# Importing Required Library\n",
        "import seaborn as sns\n",
        "from sklearn.ensemble import RandomForestClassifier\n",
        "\n",
        "# Evaluation metrics\n",
        "from sklearn.metrics import accuracy_score, precision_score, recall_score, f1_score\n",
        "from sklearn.metrics import precision_recall_curve\n",
        "from sklearn.metrics import balanced_accuracy_score\n",
        "from sklearn.metrics import classification_report\n",
        "from sklearn.metrics import confusion_matrix"
      ],
      "metadata": {
        "id": "eFj63zQ3STFn"
      },
      "execution_count": null,
      "outputs": []
    },
    {
      "cell_type": "code",
      "source": [
        "def evaluation(y_test, y_pred):\n",
        "  print('Misclassified samples: %d' % (y_test != y_pred).sum())\n",
        "  result = confusion_matrix(y_test, y_pred, normalize='true')\n",
        "  #print(\"Confusion Matrix:\")\n",
        "  #print(result)\n",
        "  sns.heatmap(result, annot=True)\n",
        "  result1 = classification_report(y_test, y_pred)\n",
        "  print(\"Classification Report:\",)\n",
        "  print (result1)\n",
        "  result2 = 100* accuracy_score(y_test, y_pred)\n",
        "  print(\"Accuracy:\", result2)\n",
        "  result3 = precision_score(y_test, y_pred, average='weighted')\n",
        "  print(\"Precision:\",result3)\n",
        "  result4 = recall_score(y_test, y_pred, average='weighted')\n",
        "  print(\"Recall:\",result4)\n",
        "  result5 = f1_score(y_test, y_pred, average='weighted')\n",
        "  print(\"F1:\",result5)"
      ],
      "metadata": {
        "id": "Q2hsFwywTWuT"
      },
      "execution_count": null,
      "outputs": []
    },
    {
      "cell_type": "code",
      "source": [
        "rf = RandomForestClassifier(random_state = 1, n_estimators=100)"
      ],
      "metadata": {
        "id": "c0Nn-d7fSzvB"
      },
      "execution_count": null,
      "outputs": []
    },
    {
      "cell_type": "code",
      "source": [
        "rf.fit(trainset, trainset_label)"
      ],
      "metadata": {
        "colab": {
          "base_uri": "https://localhost:8080/",
          "height": 74
        },
        "id": "_OCiB0KnUMpc",
        "outputId": "f31b7702-043c-4dc8-bc2c-53b6374517a6"
      },
      "execution_count": null,
      "outputs": [
        {
          "output_type": "execute_result",
          "data": {
            "text/plain": [
              "RandomForestClassifier(random_state=1)"
            ],
            "text/html": [
              "<style>#sk-container-id-1 {color: black;background-color: white;}#sk-container-id-1 pre{padding: 0;}#sk-container-id-1 div.sk-toggleable {background-color: white;}#sk-container-id-1 label.sk-toggleable__label {cursor: pointer;display: block;width: 100%;margin-bottom: 0;padding: 0.3em;box-sizing: border-box;text-align: center;}#sk-container-id-1 label.sk-toggleable__label-arrow:before {content: \"▸\";float: left;margin-right: 0.25em;color: #696969;}#sk-container-id-1 label.sk-toggleable__label-arrow:hover:before {color: black;}#sk-container-id-1 div.sk-estimator:hover label.sk-toggleable__label-arrow:before {color: black;}#sk-container-id-1 div.sk-toggleable__content {max-height: 0;max-width: 0;overflow: hidden;text-align: left;background-color: #f0f8ff;}#sk-container-id-1 div.sk-toggleable__content pre {margin: 0.2em;color: black;border-radius: 0.25em;background-color: #f0f8ff;}#sk-container-id-1 input.sk-toggleable__control:checked~div.sk-toggleable__content {max-height: 200px;max-width: 100%;overflow: auto;}#sk-container-id-1 input.sk-toggleable__control:checked~label.sk-toggleable__label-arrow:before {content: \"▾\";}#sk-container-id-1 div.sk-estimator input.sk-toggleable__control:checked~label.sk-toggleable__label {background-color: #d4ebff;}#sk-container-id-1 div.sk-label input.sk-toggleable__control:checked~label.sk-toggleable__label {background-color: #d4ebff;}#sk-container-id-1 input.sk-hidden--visually {border: 0;clip: rect(1px 1px 1px 1px);clip: rect(1px, 1px, 1px, 1px);height: 1px;margin: -1px;overflow: hidden;padding: 0;position: absolute;width: 1px;}#sk-container-id-1 div.sk-estimator {font-family: monospace;background-color: #f0f8ff;border: 1px dotted black;border-radius: 0.25em;box-sizing: border-box;margin-bottom: 0.5em;}#sk-container-id-1 div.sk-estimator:hover {background-color: #d4ebff;}#sk-container-id-1 div.sk-parallel-item::after {content: \"\";width: 100%;border-bottom: 1px solid gray;flex-grow: 1;}#sk-container-id-1 div.sk-label:hover label.sk-toggleable__label {background-color: #d4ebff;}#sk-container-id-1 div.sk-serial::before {content: \"\";position: absolute;border-left: 1px solid gray;box-sizing: border-box;top: 0;bottom: 0;left: 50%;z-index: 0;}#sk-container-id-1 div.sk-serial {display: flex;flex-direction: column;align-items: center;background-color: white;padding-right: 0.2em;padding-left: 0.2em;position: relative;}#sk-container-id-1 div.sk-item {position: relative;z-index: 1;}#sk-container-id-1 div.sk-parallel {display: flex;align-items: stretch;justify-content: center;background-color: white;position: relative;}#sk-container-id-1 div.sk-item::before, #sk-container-id-1 div.sk-parallel-item::before {content: \"\";position: absolute;border-left: 1px solid gray;box-sizing: border-box;top: 0;bottom: 0;left: 50%;z-index: -1;}#sk-container-id-1 div.sk-parallel-item {display: flex;flex-direction: column;z-index: 1;position: relative;background-color: white;}#sk-container-id-1 div.sk-parallel-item:first-child::after {align-self: flex-end;width: 50%;}#sk-container-id-1 div.sk-parallel-item:last-child::after {align-self: flex-start;width: 50%;}#sk-container-id-1 div.sk-parallel-item:only-child::after {width: 0;}#sk-container-id-1 div.sk-dashed-wrapped {border: 1px dashed gray;margin: 0 0.4em 0.5em 0.4em;box-sizing: border-box;padding-bottom: 0.4em;background-color: white;}#sk-container-id-1 div.sk-label label {font-family: monospace;font-weight: bold;display: inline-block;line-height: 1.2em;}#sk-container-id-1 div.sk-label-container {text-align: center;}#sk-container-id-1 div.sk-container {/* jupyter's `normalize.less` sets `[hidden] { display: none; }` but bootstrap.min.css set `[hidden] { display: none !important; }` so we also need the `!important` here to be able to override the default hidden behavior on the sphinx rendered scikit-learn.org. See: https://github.com/scikit-learn/scikit-learn/issues/21755 */display: inline-block !important;position: relative;}#sk-container-id-1 div.sk-text-repr-fallback {display: none;}</style><div id=\"sk-container-id-1\" class=\"sk-top-container\"><div class=\"sk-text-repr-fallback\"><pre>RandomForestClassifier(random_state=1)</pre><b>In a Jupyter environment, please rerun this cell to show the HTML representation or trust the notebook. <br />On GitHub, the HTML representation is unable to render, please try loading this page with nbviewer.org.</b></div><div class=\"sk-container\" hidden><div class=\"sk-item\"><div class=\"sk-estimator sk-toggleable\"><input class=\"sk-toggleable__control sk-hidden--visually\" id=\"sk-estimator-id-1\" type=\"checkbox\" checked><label for=\"sk-estimator-id-1\" class=\"sk-toggleable__label sk-toggleable__label-arrow\">RandomForestClassifier</label><div class=\"sk-toggleable__content\"><pre>RandomForestClassifier(random_state=1)</pre></div></div></div></div></div>"
            ]
          },
          "metadata": {},
          "execution_count": 31
        }
      ]
    },
    {
      "cell_type": "code",
      "source": [
        "evaluation(trainset_label, rf.predict(trainset))"
      ],
      "metadata": {
        "colab": {
          "base_uri": "https://localhost:8080/",
          "height": 886
        },
        "id": "NnPMVHek4CiE",
        "outputId": "e5fd1665-c55b-4f64-93b3-b744995f007c"
      },
      "execution_count": 44,
      "outputs": [
        {
          "output_type": "stream",
          "name": "stdout",
          "text": [
            "Misclassified samples: 701\n",
            "Classification Report:\n",
            "              precision    recall  f1-score   support\n",
            "\n",
            "           0       1.00      1.00      1.00   1361979\n",
            "           1       1.00      1.00      1.00    138547\n",
            "           2       1.00      1.00      1.00      6207\n",
            "           3       1.00      1.00      1.00      3498\n",
            "           4       1.00      1.00      1.00      3329\n",
            "           5       1.00      1.00      1.00     76909\n",
            "           6       0.99      1.00      1.00     95405\n",
            "           7       1.00      1.00      1.00      4744\n",
            "           8       1.00      1.00      1.00      3583\n",
            "           9       1.00      1.00      1.00      1326\n",
            "          10       1.00      1.00      1.00     11167\n",
            "          11       1.00      1.00      1.00     10025\n",
            "          12       1.00      1.00      1.00     10006\n",
            "\n",
            "    accuracy                           1.00   1726725\n",
            "   macro avg       1.00      1.00      1.00   1726725\n",
            "weighted avg       1.00      1.00      1.00   1726725\n",
            "\n",
            "Accuracy: 99.95940291592466\n",
            "Precision: 0.9995959525508699\n",
            "Recall: 0.9995940291592466\n",
            "F1: 0.9995944705943106\n"
          ]
        },
        {
          "output_type": "display_data",
          "data": {
            "text/plain": [
              "<Figure size 640x480 with 2 Axes>"
            ],
            "image/png": "[encoded data removed]"
          },
          "metadata": {}
        }
      ]
    },
    {
      "cell_type": "markdown",
      "source": [
        "# Evaluation"
      ],
      "metadata": {
        "id": "pbGLXwnBdZHN"
      }
    },
    {
      "cell_type": "code",
      "source": [
        "prediction = rf.predict(testset)"
      ],
      "metadata": {
        "id": "bUyxxDijTY_r"
      },
      "execution_count": null,
      "outputs": []
    },
    {
      "cell_type": "code",
      "source": [
        "evaluation(testset_label, prediction)"
      ],
      "metadata": {
        "colab": {
          "base_uri": "https://localhost:8080/",
          "height": 886
        },
        "id": "ytABDCmDTo7R",
        "outputId": "1416042e-1864-4cef-b51a-560bc2e38c3e"
      },
      "execution_count": null,
      "outputs": [
        {
          "output_type": "stream",
          "name": "stdout",
          "text": [
            "Misclassified samples: 1458\n",
            "Classification Report:\n",
            "              precision    recall  f1-score   support\n",
            "\n",
            "           0       1.00      1.00      1.00    909341\n",
            "           1       1.00      1.00      1.00     91577\n",
            "           2       1.00      0.99      1.00      4086\n",
            "           3       1.00      0.99      1.00      2298\n",
            "           4       0.95      0.99      0.97      2170\n",
            "           5       1.00      1.00      1.00     51116\n",
            "           6       0.99      1.00      1.00     63399\n",
            "           7       1.00      1.00      1.00      3191\n",
            "           8       1.00      0.99      1.00      2314\n",
            "           9       0.99      0.94      0.96       854\n",
            "          10       0.87      0.71      0.78       789\n",
            "          11       1.00      0.45      0.62        11\n",
            "          12       1.00      1.00      1.00         5\n",
            "\n",
            "    accuracy                           1.00   1131151\n",
            "   macro avg       0.98      0.93      0.95   1131151\n",
            "weighted avg       1.00      1.00      1.00   1131151\n",
            "\n",
            "Accuracy: 99.87110474198406\n",
            "Precision: 0.998699410582437\n",
            "Recall: 0.9987110474198405\n",
            "F1: 0.9986966067390135\n"
          ]
        },
        {
          "output_type": "display_data",
          "data": {
            "text/plain": [
              "<Figure size 640x480 with 2 Axes>"
            ],
            "image/png": "[encoded data removed]"
          },
          "metadata": {}
        }
      ]
    },
    {
      "cell_type": "markdown",
      "source": [
        "# Save & load the model"
      ],
      "metadata": {
        "id": "KRnMCDxshj6f"
      }
    },
    {
      "cell_type": "code",
      "source": [
        "import joblib\n",
        "# Save the model to an H5 file\n",
        "joblib.dump(rf, '/content/drive/MyDrive/Models/RF_CTGAN.h5')"
      ],
      "metadata": {
        "colab": {
          "base_uri": "https://localhost:8080/"
        },
        "id": "UThZFUeXhP__",
        "outputId": "f02816da-6981-4460-aa31-a72130efd7a9"
      },
      "execution_count": null,
      "outputs": [
        {
          "output_type": "execute_result",
          "data": {
            "text/plain": [
              "['/content/drive/MyDrive/Models/RF_CTGAN.h5']"
            ]
          },
          "metadata": {},
          "execution_count": 59
        }
      ]
    },
    {
      "cell_type": "code",
      "source": [
        "import joblib\n",
        "\n",
        "# Load the model\n",
        "rf = joblib.load(\"/content/drive/MyDrive/Models/RF_CTGAN.h5\")"
      ],
      "metadata": {
        "id": "Cp8OzVMUpZ35"
      },
      "execution_count": null,
      "outputs": []
    }
  ]
}