{
  "nbformat": 4,
  "nbformat_minor": 0,
  "metadata": {
    "colab": {
      "provenance": [],
      "toc_visible": true,
      "include_colab_link": true
    },
    "kernelspec": {
      "name": "python3",
      "display_name": "Python 3"
    },
    "language_info": {
      "name": "python"
    }
  },
  "cells": [
    {
      "cell_type": "markdown",
      "metadata": {
        "id": "view-in-github",
        "colab_type": "text"
      },
      "source": [
        "<a href=\"https://colab.research.google.com/github/BeforeTheStorm202/NT204.N21.ATCL-Group5/blob/main/CICIDS2017_FeatureEngineering_SMOTE.ipynb\" target=\"_parent\"><img src=\"https://colab.research.google.com/assets/colab-badge.svg\" alt=\"Open In Colab\"/></a>"
      ]
    },
    {
      "cell_type": "code",
      "execution_count": null,
      "metadata": {
        "id": "sBtvrGp4a6IJ"
      },
      "outputs": [],
      "source": [
        "import matplotlib.pyplot as plt\n",
        "import pandas as pd\n",
        "import numpy as np\n",
        "from os import listdir\n",
        "from os.path import isfile, join\n",
        "from sklearn.ensemble import RandomForestClassifier\n",
        "from sklearn.model_selection import train_test_split\n",
        "from sklearn.metrics import accuracy_score, confusion_matrix\n",
        "import seaborn as sns"
      ]
    },
    {
      "cell_type": "markdown",
      "source": [
        "# Read Data"
      ],
      "metadata": {
        "id": "qNKoEue7sTsv"
      }
    },
    {
      "cell_type": "code",
      "source": [
        "# list tất cả path của file trong thư mục\n",
        "df_main = pd.DataFrame(data=None)\n",
        "dataset_path = '/content/drive/MyDrive/UIT/Dataset/CICIDS2017'\n",
        "all_samples = [f for f in listdir(dataset_path) if isfile(join(dataset_path, f))] #list comprehension\n",
        "for samples in all_samples:\n",
        "    file_path = join(dataset_path, samples)\n",
        "    print(file_path)\n",
        "    temp = pd.read_csv(file_path)\n",
        "    df_main = pd.concat([df_main, temp], ignore_index=True)"
      ],
      "metadata": {
        "colab": {
          "base_uri": "https://localhost:8080/"
        },
        "id": "daI1pKAasVc_",
        "outputId": "c661d94f-029f-4460-924f-2139e48d7779"
      },
      "execution_count": null,
      "outputs": [
        {
          "output_type": "stream",
          "name": "stdout",
          "text": [
            "/content/drive/MyDrive/UIT/Dataset/CICIDS2017/Monday.csv\n",
            "/content/drive/MyDrive/UIT/Dataset/CICIDS2017/Tuesday-BruteForce.csv\n",
            "/content/drive/MyDrive/UIT/Dataset/CICIDS2017/Wednesday-DDoS-HeartBleed.csv\n",
            "/content/drive/MyDrive/UIT/Dataset/CICIDS2017/Thursday-WebAttacks.csv\n",
            "/content/drive/MyDrive/UIT/Dataset/CICIDS2017/Thursday-Infilteration.csv\n",
            "/content/drive/MyDrive/UIT/Dataset/CICIDS2017/Friday-Botnet.csv\n",
            "/content/drive/MyDrive/UIT/Dataset/CICIDS2017/Friday-DDoS.csv\n",
            "/content/drive/MyDrive/UIT/Dataset/CICIDS2017/Friday-PortScan.csv\n"
          ]
        }
      ]
    },
    {
      "cell_type": "code",
      "source": [
        "# Remove unnecessary data\n",
        "import gc\n",
        "del temp\n",
        "gc.collect()"
      ],
      "metadata": {
        "colab": {
          "base_uri": "https://localhost:8080/"
        },
        "id": "HHvgHxbVuE-2",
        "outputId": "34db3df1-d649-4df5-95b6-62b711bb5024"
      },
      "execution_count": null,
      "outputs": [
        {
          "output_type": "execute_result",
          "data": {
            "text/plain": [
              "0"
            ]
          },
          "metadata": {},
          "execution_count": 3
        }
      ]
    },
    {
      "cell_type": "markdown",
      "source": [
        "# Analyze Data"
      ],
      "metadata": {
        "id": "uYZ3bZXlj4sJ"
      }
    },
    {
      "cell_type": "code",
      "source": [
        "df_main.shape"
      ],
      "metadata": {
        "colab": {
          "base_uri": "https://localhost:8080/"
        },
        "id": "zRdj9NzvkEfs",
        "outputId": "caae7f4e-e393-461c-8b29-eda8be4b7c17"
      },
      "execution_count": null,
      "outputs": [
        {
          "output_type": "execute_result",
          "data": {
            "text/plain": [
              "(2830743, 79)"
            ]
          },
          "metadata": {},
          "execution_count": 4
        }
      ]
    },
    {
      "cell_type": "code",
      "source": [
        "df_main.columns"
      ],
      "metadata": {
        "colab": {
          "base_uri": "https://localhost:8080/"
        },
        "id": "SUvfy6w933fX",
        "outputId": "7ca78409-1e13-4feb-d70a-adbf458d1b58"
      },
      "execution_count": null,
      "outputs": [
        {
          "output_type": "execute_result",
          "data": {
            "text/plain": [
              "Index([' Destination Port', ' Flow Duration', ' Total Fwd Packets',\n",
              "       ' Total Backward Packets', 'Total Length of Fwd Packets',\n",
              "       ' Total Length of Bwd Packets', ' Fwd Packet Length Max',\n",
              "       ' Fwd Packet Length Min', ' Fwd Packet Length Mean',\n",
              "       ' Fwd Packet Length Std', 'Bwd Packet Length Max',\n",
              "       ' Bwd Packet Length Min', ' Bwd Packet Length Mean',\n",
              "       ' Bwd Packet Length Std', 'Flow Bytes/s', ' Flow Packets/s',\n",
              "       ' Flow IAT Mean', ' Flow IAT Std', ' Flow IAT Max', ' Flow IAT Min',\n",
              "       'Fwd IAT Total', ' Fwd IAT Mean', ' Fwd IAT Std', ' Fwd IAT Max',\n",
              "       ' Fwd IAT Min', 'Bwd IAT Total', ' Bwd IAT Mean', ' Bwd IAT Std',\n",
              "       ' Bwd IAT Max', ' Bwd IAT Min', 'Fwd PSH Flags', ' Bwd PSH Flags',\n",
              "       ' Fwd URG Flags', ' Bwd URG Flags', ' Fwd Header Length',\n",
              "       ' Bwd Header Length', 'Fwd Packets/s', ' Bwd Packets/s',\n",
              "       ' Min Packet Length', ' Max Packet Length', ' Packet Length Mean',\n",
              "       ' Packet Length Std', ' Packet Length Variance', 'FIN Flag Count',\n",
              "       ' SYN Flag Count', ' RST Flag Count', ' PSH Flag Count',\n",
              "       ' ACK Flag Count', ' URG Flag Count', ' CWE Flag Count',\n",
              "       ' ECE Flag Count', ' Down/Up Ratio', ' Average Packet Size',\n",
              "       ' Avg Fwd Segment Size', ' Avg Bwd Segment Size',\n",
              "       ' Fwd Header Length.1', 'Fwd Avg Bytes/Bulk', ' Fwd Avg Packets/Bulk',\n",
              "       ' Fwd Avg Bulk Rate', ' Bwd Avg Bytes/Bulk', ' Bwd Avg Packets/Bulk',\n",
              "       'Bwd Avg Bulk Rate', 'Subflow Fwd Packets', ' Subflow Fwd Bytes',\n",
              "       ' Subflow Bwd Packets', ' Subflow Bwd Bytes', 'Init_Win_bytes_forward',\n",
              "       ' Init_Win_bytes_backward', ' act_data_pkt_fwd',\n",
              "       ' min_seg_size_forward', 'Active Mean', ' Active Std', ' Active Max',\n",
              "       ' Active Min', 'Idle Mean', ' Idle Std', ' Idle Max', ' Idle Min',\n",
              "       ' Label'],\n",
              "      dtype='object')"
            ]
          },
          "metadata": {},
          "execution_count": 3
        }
      ]
    },
    {
      "cell_type": "code",
      "source": [
        "df_main.head()"
      ],
      "metadata": {
        "colab": {
          "base_uri": "https://localhost:8080/",
          "height": 351
        },
        "id": "prZzpgYDj68s",
        "outputId": "272d9ce0-167e-42bb-9aca-df79a60683c0"
      },
      "execution_count": null,
      "outputs": [
        {
          "output_type": "execute_result",
          "data": {
            "text/plain": [
              "    Destination Port   Flow Duration   Total Fwd Packets  \\\n",
              "0              49188               4                   2   \n",
              "1              49188               1                   2   \n",
              "2              49188               1                   2   \n",
              "3              49188               1                   2   \n",
              "4              49486               3                   2   \n",
              "\n",
              "    Total Backward Packets  Total Length of Fwd Packets  \\\n",
              "0                        0                           12   \n",
              "1                        0                           12   \n",
              "2                        0                           12   \n",
              "3                        0                           12   \n",
              "4                        0                           12   \n",
              "\n",
              "    Total Length of Bwd Packets   Fwd Packet Length Max  \\\n",
              "0                             0                       6   \n",
              "1                             0                       6   \n",
              "2                             0                       6   \n",
              "3                             0                       6   \n",
              "4                             0                       6   \n",
              "\n",
              "    Fwd Packet Length Min   Fwd Packet Length Mean   Fwd Packet Length Std  \\\n",
              "0                       6                      6.0                     0.0   \n",
              "1                       6                      6.0                     0.0   \n",
              "2                       6                      6.0                     0.0   \n",
              "3                       6                      6.0                     0.0   \n",
              "4                       6                      6.0                     0.0   \n",
              "\n",
              "   ...   min_seg_size_forward  Active Mean   Active Std   Active Max  \\\n",
              "0  ...                     20          0.0          0.0            0   \n",
              "1  ...                     20          0.0          0.0            0   \n",
              "2  ...                     20          0.0          0.0            0   \n",
              "3  ...                     20          0.0          0.0            0   \n",
              "4  ...                     20          0.0          0.0            0   \n",
              "\n",
              "    Active Min  Idle Mean   Idle Std   Idle Max   Idle Min   Label  \n",
              "0            0        0.0        0.0          0          0  BENIGN  \n",
              "1            0        0.0        0.0          0          0  BENIGN  \n",
              "2            0        0.0        0.0          0          0  BENIGN  \n",
              "3            0        0.0        0.0          0          0  BENIGN  \n",
              "4            0        0.0        0.0          0          0  BENIGN  \n",
              "\n",
              "[5 rows x 79 columns]"
            ],
            "text/html": [
              "\n",
              "  <div id=\"df-e63d3b45-f4b6-40f0-b795-755f46dba007\">\n",
              "    <div class=\"colab-df-container\">\n",
              "      <div>\n",
              "<style scoped>\n",
              "    .dataframe tbody tr th:only-of-type {\n",
              "        vertical-align: middle;\n",
              "    }\n",
              "\n",
              "    .dataframe tbody tr th {\n",
              "        vertical-align: top;\n",
              "    }\n",
              "\n",
              "    .dataframe thead th {\n",
              "        text-align: right;\n",
              "    }\n",
              "</style>\n",
              "<table border=\"1\" class=\"dataframe\">\n",
              "  <thead>\n",
              "    <tr style=\"text-align: right;\">\n",
              "      <th></th>\n",
              "      <th>Destination Port</th>\n",
              "      <th>Flow Duration</th>\n",
              "      <th>Total Fwd Packets</th>\n",
              "      <th>Total Backward Packets</th>\n",
              "      <th>Total Length of Fwd Packets</th>\n",
              "      <th>Total Length of Bwd Packets</th>\n",
              "      <th>Fwd Packet Length Max</th>\n",
              "      <th>Fwd Packet Length Min</th>\n",
              "      <th>Fwd Packet Length Mean</th>\n",
              "      <th>Fwd Packet Length Std</th>\n",
              "      <th>...</th>\n",
              "      <th>min_seg_size_forward</th>\n",
              "      <th>Active Mean</th>\n",
              "      <th>Active Std</th>\n",
              "      <th>Active Max</th>\n",
              "      <th>Active Min</th>\n",
              "      <th>Idle Mean</th>\n",
              "      <th>Idle Std</th>\n",
              "      <th>Idle Max</th>\n",
              "      <th>Idle Min</th>\n",
              "      <th>Label</th>\n",
              "    </tr>\n",
              "  </thead>\n",
              "  <tbody>\n",
              "    <tr>\n",
              "      <th>0</th>\n",
              "      <td>49188</td>\n",
              "      <td>4</td>\n",
              "      <td>2</td>\n",
              "      <td>0</td>\n",
              "      <td>12</td>\n",
              "      <td>0</td>\n",
              "      <td>6</td>\n",
              "      <td>6</td>\n",
              "      <td>6.0</td>\n",
              "      <td>0.0</td>\n",
              "      <td>...</td>\n",
              "      <td>20</td>\n",
              "      <td>0.0</td>\n",
              "      <td>0.0</td>\n",
              "      <td>0</td>\n",
              "      <td>0</td>\n",
              "      <td>0.0</td>\n",
              "      <td>0.0</td>\n",
              "      <td>0</td>\n",
              "      <td>0</td>\n",
              "      <td>BENIGN</td>\n",
              "    </tr>\n",
              "    <tr>\n",
              "      <th>1</th>\n",
              "      <td>49188</td>\n",
              "      <td>1</td>\n",
              "      <td>2</td>\n",
              "      <td>0</td>\n",
              "      <td>12</td>\n",
              "      <td>0</td>\n",
              "      <td>6</td>\n",
              "      <td>6</td>\n",
              "      <td>6.0</td>\n",
              "      <td>0.0</td>\n",
              "      <td>...</td>\n",
              "      <td>20</td>\n",
              "      <td>0.0</td>\n",
              "      <td>0.0</td>\n",
              "      <td>0</td>\n",
              "      <td>0</td>\n",
              "      <td>0.0</td>\n",
              "      <td>0.0</td>\n",
              "      <td>0</td>\n",
              "      <td>0</td>\n",
              "      <td>BENIGN</td>\n",
              "    </tr>\n",
              "    <tr>\n",
              "      <th>2</th>\n",
              "      <td>49188</td>\n",
              "      <td>1</td>\n",
              "      <td>2</td>\n",
              "      <td>0</td>\n",
              "      <td>12</td>\n",
              "      <td>0</td>\n",
              "      <td>6</td>\n",
              "      <td>6</td>\n",
              "      <td>6.0</td>\n",
              "      <td>0.0</td>\n",
              "      <td>...</td>\n",
              "      <td>20</td>\n",
              "      <td>0.0</td>\n",
              "      <td>0.0</td>\n",
              "      <td>0</td>\n",
              "      <td>0</td>\n",
              "      <td>0.0</td>\n",
              "      <td>0.0</td>\n",
              "      <td>0</td>\n",
              "      <td>0</td>\n",
              "      <td>BENIGN</td>\n",
              "    </tr>\n",
              "    <tr>\n",
              "      <th>3</th>\n",
              "      <td>49188</td>\n",
              "      <td>1</td>\n",
              "      <td>2</td>\n",
              "      <td>0</td>\n",
              "      <td>12</td>\n",
              "      <td>0</td>\n",
              "      <td>6</td>\n",
              "      <td>6</td>\n",
              "      <td>6.0</td>\n",
              "      <td>0.0</td>\n",
              "      <td>...</td>\n",
              "      <td>20</td>\n",
              "      <td>0.0</td>\n",
              "      <td>0.0</td>\n",
              "      <td>0</td>\n",
              "      <td>0</td>\n",
              "      <td>0.0</td>\n",
              "      <td>0.0</td>\n",
              "      <td>0</td>\n",
              "      <td>0</td>\n",
              "      <td>BENIGN</td>\n",
              "    </tr>\n",
              "    <tr>\n",
              "      <th>4</th>\n",
              "      <td>49486</td>\n",
              "      <td>3</td>\n",
              "      <td>2</td>\n",
              "      <td>0</td>\n",
              "      <td>12</td>\n",
              "      <td>0</td>\n",
              "      <td>6</td>\n",
              "      <td>6</td>\n",
              "      <td>6.0</td>\n",
              "      <td>0.0</td>\n",
              "      <td>...</td>\n",
              "      <td>20</td>\n",
              "      <td>0.0</td>\n",
              "      <td>0.0</td>\n",
              "      <td>0</td>\n",
              "      <td>0</td>\n",
              "      <td>0.0</td>\n",
              "      <td>0.0</td>\n",
              "      <td>0</td>\n",
              "      <td>0</td>\n",
              "      <td>BENIGN</td>\n",
              "    </tr>\n",
              "  </tbody>\n",
              "</table>\n",
              "<p>5 rows × 79 columns</p>\n",
              "</div>\n",
              "      <button class=\"colab-df-convert\" onclick=\"convertToInteractive('df-e63d3b45-f4b6-40f0-b795-755f46dba007')\"\n",
              "              title=\"Convert this dataframe to an interactive table.\"\n",
              "              style=\"display:none;\">\n",
              "        \n",
              "  <svg xmlns=\"http://www.w3.org/2000/svg\" height=\"24px\"viewBox=\"0 0 24 24\"\n",
              "       width=\"24px\">\n",
              "    <path d=\"M0 0h24v24H0V0z\" fill=\"none\"/>\n",
              "    <path d=\"M18.56 5.44l.94 2.06.94-2.06 2.06-.94-2.06-.94-.94-2.06-.94 2.06-2.06.94zm-11 1L8.5 8.5l.94-2.06 2.06-.94-2.06-.94L8.5 2.5l-.94 2.06-2.06.94zm10 10l.94 2.06.94-2.06 2.06-.94-2.06-.94-.94-2.06-.94 2.06-2.06.94z\"/><path d=\"M17.41 7.96l-1.37-1.37c-.4-.4-.92-.59-1.43-.59-.52 0-1.04.2-1.43.59L10.3 9.45l-7.72 7.72c-.78.78-.78 2.05 0 2.83L4 21.41c.39.39.9.59 1.41.59.51 0 1.02-.2 1.41-.59l7.78-7.78 2.81-2.81c.8-.78.8-2.07 0-2.86zM5.41 20L4 18.59l7.72-7.72 1.47 1.35L5.41 20z\"/>\n",
              "  </svg>\n",
              "      </button>\n",
              "      \n",
              "  <style>\n",
              "    .colab-df-container {\n",
              "      display:flex;\n",
              "      flex-wrap:wrap;\n",
              "      gap: 12px;\n",
              "    }\n",
              "\n",
              "    .colab-df-convert {\n",
              "      background-color: #E8F0FE;\n",
              "      border: none;\n",
              "      border-radius: 50%;\n",
              "      cursor: pointer;\n",
              "      display: none;\n",
              "      fill: #1967D2;\n",
              "      height: 32px;\n",
              "      padding: 0 0 0 0;\n",
              "      width: 32px;\n",
              "    }\n",
              "\n",
              "    .colab-df-convert:hover {\n",
              "      background-color: #E2EBFA;\n",
              "      box-shadow: 0px 1px 2px rgba(60, 64, 67, 0.3), 0px 1px 3px 1px rgba(60, 64, 67, 0.15);\n",
              "      fill: #174EA6;\n",
              "    }\n",
              "\n",
              "    [theme=dark] .colab-df-convert {\n",
              "      background-color: #3B4455;\n",
              "      fill: #D2E3FC;\n",
              "    }\n",
              "\n",
              "    [theme=dark] .colab-df-convert:hover {\n",
              "      background-color: #434B5C;\n",
              "      box-shadow: 0px 1px 3px 1px rgba(0, 0, 0, 0.15);\n",
              "      filter: drop-shadow(0px 1px 2px rgba(0, 0, 0, 0.3));\n",
              "      fill: #FFFFFF;\n",
              "    }\n",
              "  </style>\n",
              "\n",
              "      <script>\n",
              "        const buttonEl =\n",
              "          document.querySelector('#df-e63d3b45-f4b6-40f0-b795-755f46dba007 button.colab-df-convert');\n",
              "        buttonEl.style.display =\n",
              "          google.colab.kernel.accessAllowed ? 'block' : 'none';\n",
              "\n",
              "        async function convertToInteractive(key) {\n",
              "          const element = document.querySelector('#df-e63d3b45-f4b6-40f0-b795-755f46dba007');\n",
              "          const dataTable =\n",
              "            await google.colab.kernel.invokeFunction('convertToInteractive',\n",
              "                                                     [key], {});\n",
              "          if (!dataTable) return;\n",
              "\n",
              "          const docLinkHtml = 'Like what you see? Visit the ' +\n",
              "            '<a target=\"_blank\" href=https://colab.research.google.com/notebooks/data_table.ipynb>data table notebook</a>'\n",
              "            + ' to learn more about interactive tables.';\n",
              "          element.innerHTML = '';\n",
              "          dataTable['output_type'] = 'display_data';\n",
              "          await google.colab.output.renderOutput(dataTable, element);\n",
              "          const docLink = document.createElement('div');\n",
              "          docLink.innerHTML = docLinkHtml;\n",
              "          element.appendChild(docLink);\n",
              "        }\n",
              "      </script>\n",
              "    </div>\n",
              "  </div>\n",
              "  "
            ]
          },
          "metadata": {},
          "execution_count": 5
        }
      ]
    },
    {
      "cell_type": "code",
      "source": [
        "df_main.info()"
      ],
      "metadata": {
        "colab": {
          "base_uri": "https://localhost:8080/"
        },
        "id": "ktvnOHCij99b",
        "outputId": "8b04679e-5612-45c9-96ce-b251f219dd93"
      },
      "execution_count": null,
      "outputs": [
        {
          "output_type": "stream",
          "name": "stdout",
          "text": [
            "<class 'pandas.core.frame.DataFrame'>\n",
            "RangeIndex: 2830743 entries, 0 to 2830742\n",
            "Data columns (total 79 columns):\n",
            " #   Column                        Dtype  \n",
            "---  ------                        -----  \n",
            " 0    Destination Port             int64  \n",
            " 1    Flow Duration                int64  \n",
            " 2    Total Fwd Packets            int64  \n",
            " 3    Total Backward Packets       int64  \n",
            " 4   Total Length of Fwd Packets   int64  \n",
            " 5    Total Length of Bwd Packets  int64  \n",
            " 6    Fwd Packet Length Max        int64  \n",
            " 7    Fwd Packet Length Min        int64  \n",
            " 8    Fwd Packet Length Mean       float64\n",
            " 9    Fwd Packet Length Std        float64\n",
            " 10  Bwd Packet Length Max         int64  \n",
            " 11   Bwd Packet Length Min        int64  \n",
            " 12   Bwd Packet Length Mean       float64\n",
            " 13   Bwd Packet Length Std        float64\n",
            " 14  Flow Bytes/s                  float64\n",
            " 15   Flow Packets/s               float64\n",
            " 16   Flow IAT Mean                float64\n",
            " 17   Flow IAT Std                 float64\n",
            " 18   Flow IAT Max                 int64  \n",
            " 19   Flow IAT Min                 int64  \n",
            " 20  Fwd IAT Total                 int64  \n",
            " 21   Fwd IAT Mean                 float64\n",
            " 22   Fwd IAT Std                  float64\n",
            " 23   Fwd IAT Max                  int64  \n",
            " 24   Fwd IAT Min                  int64  \n",
            " 25  Bwd IAT Total                 int64  \n",
            " 26   Bwd IAT Mean                 float64\n",
            " 27   Bwd IAT Std                  float64\n",
            " 28   Bwd IAT Max                  int64  \n",
            " 29   Bwd IAT Min                  int64  \n",
            " 30  Fwd PSH Flags                 int64  \n",
            " 31   Bwd PSH Flags                int64  \n",
            " 32   Fwd URG Flags                int64  \n",
            " 33   Bwd URG Flags                int64  \n",
            " 34   Fwd Header Length            int64  \n",
            " 35   Bwd Header Length            int64  \n",
            " 36  Fwd Packets/s                 float64\n",
            " 37   Bwd Packets/s                float64\n",
            " 38   Min Packet Length            int64  \n",
            " 39   Max Packet Length            int64  \n",
            " 40   Packet Length Mean           float64\n",
            " 41   Packet Length Std            float64\n",
            " 42   Packet Length Variance       float64\n",
            " 43  FIN Flag Count                int64  \n",
            " 44   SYN Flag Count               int64  \n",
            " 45   RST Flag Count               int64  \n",
            " 46   PSH Flag Count               int64  \n",
            " 47   ACK Flag Count               int64  \n",
            " 48   URG Flag Count               int64  \n",
            " 49   CWE Flag Count               int64  \n",
            " 50   ECE Flag Count               int64  \n",
            " 51   Down/Up Ratio                int64  \n",
            " 52   Average Packet Size          float64\n",
            " 53   Avg Fwd Segment Size         float64\n",
            " 54   Avg Bwd Segment Size         float64\n",
            " 55   Fwd Header Length.1          int64  \n",
            " 56  Fwd Avg Bytes/Bulk            int64  \n",
            " 57   Fwd Avg Packets/Bulk         int64  \n",
            " 58   Fwd Avg Bulk Rate            int64  \n",
            " 59   Bwd Avg Bytes/Bulk           int64  \n",
            " 60   Bwd Avg Packets/Bulk         int64  \n",
            " 61  Bwd Avg Bulk Rate             int64  \n",
            " 62  Subflow Fwd Packets           int64  \n",
            " 63   Subflow Fwd Bytes            int64  \n",
            " 64   Subflow Bwd Packets          int64  \n",
            " 65   Subflow Bwd Bytes            int64  \n",
            " 66  Init_Win_bytes_forward        int64  \n",
            " 67   Init_Win_bytes_backward      int64  \n",
            " 68   act_data_pkt_fwd             int64  \n",
            " 69   min_seg_size_forward         int64  \n",
            " 70  Active Mean                   float64\n",
            " 71   Active Std                   float64\n",
            " 72   Active Max                   int64  \n",
            " 73   Active Min                   int64  \n",
            " 74  Idle Mean                     float64\n",
            " 75   Idle Std                     float64\n",
            " 76   Idle Max                     int64  \n",
            " 77   Idle Min                     int64  \n",
            " 78   Label                        object \n",
            "dtypes: float64(24), int64(54), object(1)\n",
            "memory usage: 1.7+ GB\n"
          ]
        }
      ]
    },
    {
      "cell_type": "code",
      "source": [
        "df_main.iloc[:,-1].value_counts()"
      ],
      "metadata": {
        "colab": {
          "base_uri": "https://localhost:8080/"
        },
        "id": "y-ADmT2wkUWC",
        "outputId": "8dae283c-8d5e-4541-b0a3-2c3035c61fdc"
      },
      "execution_count": null,
      "outputs": [
        {
          "output_type": "execute_result",
          "data": {
            "text/plain": [
              "BENIGN                        2273097\n",
              "DoS Hulk                       231073\n",
              "PortScan                       158930\n",
              "DDoS                           128027\n",
              "DoS GoldenEye                   10293\n",
              "FTP-Patator                      7938\n",
              "SSH-Patator                      5897\n",
              "DoS slowloris                    5796\n",
              "DoS Slowhttptest                 5499\n",
              "Bot                              1966\n",
              "Web Attack � Brute Force         1507\n",
              "Web Attack � XSS                  652\n",
              "Infiltration                       36\n",
              "Web Attack � Sql Injection         21\n",
              "Heartbleed                         11\n",
              "Name:  Label, dtype: int64"
            ]
          },
          "metadata": {},
          "execution_count": 7
        }
      ]
    },
    {
      "cell_type": "markdown",
      "source": [
        "Dựa vào Paper ta có thể thấy ở đây Web Attack được đưa vào thành 1 nhóm chung. Nên vì thế nhãn output của chúng ta sẽ gồm 12 loại:\n",
        "1. Benign\n",
        "2. DoS\n",
        "    - Hulk\n",
        "    - Golden Eye\n",
        "    - DDoS\n",
        "    - Slowhttptest\n",
        "    - Slowloris\n",
        "3. Port Scan\n",
        "4. Bot `Minor`\n",
        "5. Infilteration `Minor`\n",
        "6. FTP-Pataor \n",
        "7. SSH-Pataor\n",
        "8. Heartbleed `Minor`\n",
        "9. Web Attacks"
      ],
      "metadata": {
        "id": "bmQskVo5vi79"
      }
    },
    {
      "cell_type": "code",
      "source": [
        "# Vì columns name có khoảng trắng ở đầu nên ta tiến hành loại bỏ đi\n",
        "df_main.rename(columns=lambda x: x.strip(), inplace=True)"
      ],
      "metadata": {
        "id": "KlUB3dhF0Be6"
      },
      "execution_count": null,
      "outputs": []
    },
    {
      "cell_type": "code",
      "source": [
        "# Merge Web Attacks catagories vào thành 1 loại\n",
        "# df_main.mask('Web Attack' in df_main['Label'], other='Web Attack', inplace=True)\n",
        "df_main['Label'].replace(['Web Attack � Brute Force', 'Web Attack � XSS', 'Web Attack � Sql Injection'], 'Web Attack', inplace=True)"
      ],
      "metadata": {
        "id": "QDEgRl0b2vDH"
      },
      "execution_count": null,
      "outputs": []
    },
    {
      "cell_type": "code",
      "source": [
        "df_main.iloc[:,-1].value_counts()"
      ],
      "metadata": {
        "colab": {
          "base_uri": "https://localhost:8080/"
        },
        "id": "FeeJIG6My7ea",
        "outputId": "5875cd2a-8c7f-4f6e-bf3b-c3fa83a6e78f"
      },
      "execution_count": null,
      "outputs": [
        {
          "output_type": "execute_result",
          "data": {
            "text/plain": [
              "BENIGN              2273097\n",
              "DoS Hulk             231073\n",
              "PortScan             158930\n",
              "DDoS                 128027\n",
              "DoS GoldenEye         10293\n",
              "FTP-Patator            7938\n",
              "SSH-Patator            5897\n",
              "DoS slowloris          5796\n",
              "DoS Slowhttptest       5499\n",
              "Web Attack             2180\n",
              "Bot                    1966\n",
              "Infiltration             36\n",
              "Heartbleed               11\n",
              "Name: Label, dtype: int64"
            ]
          },
          "metadata": {},
          "execution_count": 6
        }
      ]
    },
    {
      "cell_type": "code",
      "source": [
        "df_main.shape"
      ],
      "metadata": {
        "colab": {
          "base_uri": "https://localhost:8080/"
        },
        "id": "yzTmPr-O9EvB",
        "outputId": "2ff1f048-86ba-4543-d834-9cbf334356a9"
      },
      "execution_count": null,
      "outputs": [
        {
          "output_type": "execute_result",
          "data": {
            "text/plain": [
              "(2830743, 79)"
            ]
          },
          "metadata": {},
          "execution_count": 9
        }
      ]
    },
    {
      "cell_type": "markdown",
      "source": [
        "# Clean data"
      ],
      "metadata": {
        "id": "pfsXKULnOzso"
      }
    },
    {
      "cell_type": "code",
      "source": [
        "df_main.drop(columns=df_main.columns[0], axis=1, inplace=True) # drop first columns (port columns)"
      ],
      "metadata": {
        "id": "B1t8f4o5-r0t"
      },
      "execution_count": null,
      "outputs": []
    },
    {
      "cell_type": "code",
      "source": [
        "# Replace NaN values and Inf valueddddddds\n",
        "df_main['Flow Bytes/s'].fillna(0, inplace=True)\n",
        "df_main = df_main[np.isfinite(df_main.iloc[:,0:-1]).all(1)]"
      ],
      "metadata": {
        "id": "kcLHqqu7QSzm"
      },
      "execution_count": null,
      "outputs": []
    },
    {
      "cell_type": "code",
      "source": [
        "# Convert to float64\n",
        "df_main[df_main.select_dtypes(np.int64).columns] = df_main.select_dtypes(np.int64).astype(np.float64)"
      ],
      "metadata": {
        "id": "Qbno_EiGSFmx"
      },
      "execution_count": null,
      "outputs": []
    },
    {
      "cell_type": "markdown",
      "source": [
        "# Preprocess Data"
      ],
      "metadata": {
        "id": "y4I1-GIzkNT2"
      }
    },
    {
      "cell_type": "code",
      "source": [
        "from sklearn.preprocessing import MinMaxScaler\n",
        "scaler = MinMaxScaler()\n",
        "df_main = scaler.fit_transform(df_main)"
      ],
      "metadata": {
        "id": "GjfdUClDkPo9"
      },
      "execution_count": null,
      "outputs": []
    },
    {
      "cell_type": "markdown",
      "source": [
        "# Split Train and Test to CSV"
      ],
      "metadata": {
        "id": "qdWcZpyQRUor"
      }
    },
    {
      "cell_type": "code",
      "source": [
        "train, test = train_test_split(df_main, test_size=0.4, random_state=20, shuffle=True)"
      ],
      "metadata": {
        "id": "0JGKRNGHRf1Q"
      },
      "execution_count": null,
      "outputs": []
    },
    {
      "cell_type": "code",
      "source": [
        "train.to_csv('train_data.csv', index=False)\n",
        "test.to_csv('test_data.csv', index=False)"
      ],
      "metadata": {
        "id": "af_dcxd_R4-k"
      },
      "execution_count": null,
      "outputs": []
    },
    {
      "cell_type": "code",
      "source": [
        "del train, test\n",
        "gc.collect()"
      ],
      "metadata": {
        "colab": {
          "base_uri": "https://localhost:8080/"
        },
        "id": "eldQlnZzTPGm",
        "outputId": "54843e1a-abd8-4c0e-968b-79943230da4a"
      },
      "execution_count": null,
      "outputs": [
        {
          "output_type": "execute_result",
          "data": {
            "text/plain": [
              "712"
            ]
          },
          "metadata": {},
          "execution_count": 10
        }
      ]
    },
    {
      "cell_type": "code",
      "source": [
        "train.iloc[:, -1:].value_counts()"
      ],
      "metadata": {
        "colab": {
          "base_uri": "https://localhost:8080/"
        },
        "id": "y0v5ZGIEUOIb",
        "outputId": "10b0bafe-de34-4fdd-ad6f-3e5952efed0a"
      },
      "execution_count": null,
      "outputs": [
        {
          "output_type": "execute_result",
          "data": {
            "text/plain": [
              "Label           \n",
              "BENIGN              1361979\n",
              "DoS Hulk             138547\n",
              "PortScan              95405\n",
              "DDoS                  76909\n",
              "DoS GoldenEye          6207\n",
              "FTP-Patator            4744\n",
              "SSH-Patator            3583\n",
              "DoS slowloris          3498\n",
              "DoS Slowhttptest       3329\n",
              "Web Attack             1326\n",
              "Bot                    1167\n",
              "Infiltration             25\n",
              "Heartbleed                6\n",
              "dtype: int64"
            ]
          },
          "metadata": {},
          "execution_count": 13
        }
      ]
    },
    {
      "cell_type": "markdown",
      "source": [
        "# RF - SMOTE\n",
        "Mô hình RF thông thường chưa GAN, Normalize"
      ],
      "metadata": {
        "id": "Tm9KLFHf_fj8"
      }
    },
    {
      "cell_type": "code",
      "source": [
        "from google.colab import drive\n",
        "drive.mount('/content/drive')"
      ],
      "metadata": {
        "colab": {
          "base_uri": "https://localhost:8080/"
        },
        "id": "9bddhAKp5s87",
        "outputId": "811f083b-38d5-4bbc-bc0f-9e4af0409734"
      },
      "execution_count": null,
      "outputs": [
        {
          "output_type": "stream",
          "name": "stdout",
          "text": [
            "Mounted at /content/drive\n"
          ]
        }
      ]
    },
    {
      "cell_type": "markdown",
      "source": [
        "## SMOTE data"
      ],
      "metadata": {
        "id": "SVKuWS3V23IU"
      }
    },
    {
      "cell_type": "code",
      "source": [
        "!pip install imbalanced-learn \n",
        "!pip install smote_variants"
      ],
      "metadata": {
        "id": "2YugR7Zy3IUF",
        "colab": {
          "base_uri": "https://localhost:8080/"
        },
        "outputId": "96500ad6-f832-4720-c864-278d9721f880"
      },
      "execution_count": null,
      "outputs": [
        {
          "output_type": "stream",
          "name": "stdout",
          "text": [
            "Looking in indexes: https://pypi.org/simple, https://us-python.pkg.dev/colab-wheels/public/simple/\n",
            "Requirement already satisfied: imbalanced-learn in /usr/local/lib/python3.10/dist-packages (0.10.1)\n",
            "Requirement already satisfied: numpy>=1.17.3 in /usr/local/lib/python3.10/dist-packages (from imbalanced-learn) (1.22.4)\n",
            "Requirement already satisfied: scipy>=1.3.2 in /usr/local/lib/python3.10/dist-packages (from imbalanced-learn) (1.10.1)\n",
            "Requirement already satisfied: scikit-learn>=1.0.2 in /usr/local/lib/python3.10/dist-packages (from imbalanced-learn) (1.2.2)\n",
            "Requirement already satisfied: joblib>=1.1.1 in /usr/local/lib/python3.10/dist-packages (from imbalanced-learn) (1.2.0)\n",
            "Requirement already satisfied: threadpoolctl>=2.0.0 in /usr/local/lib/python3.10/dist-packages (from imbalanced-learn) (3.1.0)\n",
            "Looking in indexes: https://pypi.org/simple, https://us-python.pkg.dev/colab-wheels/public/simple/\n",
            "Collecting smote_variants\n",
            "  Downloading smote_variants-0.7.1-py3-none-any.whl (407 kB)\n",
            "\u001b[2K     \u001b[90m━━━━━━━━━━━━━━━━━━━━━━━━━━━━━━━━━━━━━━\u001b[0m \u001b[32m407.4/407.4 kB\u001b[0m \u001b[31m10.6 MB/s\u001b[0m eta \u001b[36m0:00:00\u001b[0m\n",
            "\u001b[?25hRequirement already satisfied: numpy>=1.13.0 in /usr/local/lib/python3.10/dist-packages (from smote_variants) (1.22.4)\n",
            "Requirement already satisfied: scipy in /usr/local/lib/python3.10/dist-packages (from smote_variants) (1.10.1)\n",
            "Requirement already satisfied: scikit-learn in /usr/local/lib/python3.10/dist-packages (from smote_variants) (1.2.2)\n",
            "Requirement already satisfied: joblib in /usr/local/lib/python3.10/dist-packages (from smote_variants) (1.2.0)\n",
            "Collecting minisom (from smote_variants)\n",
            "  Downloading MiniSom-2.3.1.tar.gz (10 kB)\n",
            "  Preparing metadata (setup.py) ... \u001b[?25l\u001b[?25hdone\n",
            "Collecting statistics (from smote_variants)\n",
            "  Downloading statistics-1.0.3.5.tar.gz (8.3 kB)\n",
            "  Preparing metadata (setup.py) ... \u001b[?25l\u001b[?25hdone\n",
            "Requirement already satisfied: tensorflow in /usr/local/lib/python3.10/dist-packages (from smote_variants) (2.12.0)\n",
            "Requirement already satisfied: keras in /usr/local/lib/python3.10/dist-packages (from smote_variants) (2.12.0)\n",
            "Requirement already satisfied: pandas in /usr/local/lib/python3.10/dist-packages (from smote_variants) (1.5.3)\n",
            "Requirement already satisfied: mkl in /usr/local/lib/python3.10/dist-packages (from smote_variants) (2019.0)\n",
            "Collecting metric-learn (from smote_variants)\n",
            "  Downloading metric_learn-0.6.2-py2.py3-none-any.whl (64 kB)\n",
            "\u001b[2K     \u001b[90m━━━━━━━━━━━━━━━━━━━━━━━━━━━━━━━━━━━━━━━━\u001b[0m \u001b[32m64.8/64.8 kB\u001b[0m \u001b[31m7.6 MB/s\u001b[0m eta \u001b[36m0:00:00\u001b[0m\n",
            "\u001b[?25hRequirement already satisfied: seaborn in /usr/local/lib/python3.10/dist-packages (from smote_variants) (0.12.2)\n",
            "Requirement already satisfied: threadpoolctl>=2.0.0 in /usr/local/lib/python3.10/dist-packages (from scikit-learn->smote_variants) (3.1.0)\n",
            "Requirement already satisfied: intel-openmp in /usr/local/lib/python3.10/dist-packages (from mkl->smote_variants) (2023.1.0)\n",
            "Requirement already satisfied: python-dateutil>=2.8.1 in /usr/local/lib/python3.10/dist-packages (from pandas->smote_variants) (2.8.2)\n",
            "Requirement already satisfied: pytz>=2020.1 in /usr/local/lib/python3.10/dist-packages (from pandas->smote_variants) (2022.7.1)\n",
            "Requirement already satisfied: matplotlib!=3.6.1,>=3.1 in /usr/local/lib/python3.10/dist-packages (from seaborn->smote_variants) (3.7.1)\n",
            "Requirement already satisfied: docutils>=0.3 in /usr/local/lib/python3.10/dist-packages (from statistics->smote_variants) (0.16)\n",
            "Requirement already satisfied: absl-py>=1.0.0 in /usr/local/lib/python3.10/dist-packages (from tensorflow->smote_variants) (1.4.0)\n",
            "Requirement already satisfied: astunparse>=1.6.0 in /usr/local/lib/python3.10/dist-packages (from tensorflow->smote_variants) (1.6.3)\n",
            "Requirement already satisfied: flatbuffers>=2.0 in /usr/local/lib/python3.10/dist-packages (from tensorflow->smote_variants) (23.3.3)\n",
            "Requirement already satisfied: gast<=0.4.0,>=0.2.1 in /usr/local/lib/python3.10/dist-packages (from tensorflow->smote_variants) (0.4.0)\n",
            "Requirement already satisfied: google-pasta>=0.1.1 in /usr/local/lib/python3.10/dist-packages (from tensorflow->smote_variants) (0.2.0)\n",
            "Requirement already satisfied: grpcio<2.0,>=1.24.3 in /usr/local/lib/python3.10/dist-packages (from tensorflow->smote_variants) (1.54.0)\n",
            "Requirement already satisfied: h5py>=2.9.0 in /usr/local/lib/python3.10/dist-packages (from tensorflow->smote_variants) (3.8.0)\n",
            "Requirement already satisfied: jax>=0.3.15 in /usr/local/lib/python3.10/dist-packages (from tensorflow->smote_variants) (0.4.10)\n",
            "Requirement already satisfied: libclang>=13.0.0 in /usr/local/lib/python3.10/dist-packages (from tensorflow->smote_variants) (16.0.0)\n",
            "Requirement already satisfied: opt-einsum>=2.3.2 in /usr/local/lib/python3.10/dist-packages (from tensorflow->smote_variants) (3.3.0)\n",
            "Requirement already satisfied: packaging in /usr/local/lib/python3.10/dist-packages (from tensorflow->smote_variants) (23.1)\n",
            "Requirement already satisfied: protobuf!=4.21.0,!=4.21.1,!=4.21.2,!=4.21.3,!=4.21.4,!=4.21.5,<5.0.0dev,>=3.20.3 in /usr/local/lib/python3.10/dist-packages (from tensorflow->smote_variants) (3.20.3)\n",
            "Requirement already satisfied: setuptools in /usr/local/lib/python3.10/dist-packages (from tensorflow->smote_variants) (67.7.2)\n",
            "Requirement already satisfied: six>=1.12.0 in /usr/local/lib/python3.10/dist-packages (from tensorflow->smote_variants) (1.16.0)\n",
            "Requirement already satisfied: tensorboard<2.13,>=2.12 in /usr/local/lib/python3.10/dist-packages (from tensorflow->smote_variants) (2.12.2)\n",
            "Requirement already satisfied: tensorflow-estimator<2.13,>=2.12.0 in /usr/local/lib/python3.10/dist-packages (from tensorflow->smote_variants) (2.12.0)\n",
            "Requirement already satisfied: termcolor>=1.1.0 in /usr/local/lib/python3.10/dist-packages (from tensorflow->smote_variants) (2.3.0)\n",
            "Requirement already satisfied: typing-extensions>=3.6.6 in /usr/local/lib/python3.10/dist-packages (from tensorflow->smote_variants) (4.5.0)\n",
            "Requirement already satisfied: wrapt<1.15,>=1.11.0 in /usr/local/lib/python3.10/dist-packages (from tensorflow->smote_variants) (1.14.1)\n",
            "Requirement already satisfied: tensorflow-io-gcs-filesystem>=0.23.1 in /usr/local/lib/python3.10/dist-packages (from tensorflow->smote_variants) (0.32.0)\n",
            "Requirement already satisfied: wheel<1.0,>=0.23.0 in /usr/local/lib/python3.10/dist-packages (from astunparse>=1.6.0->tensorflow->smote_variants) (0.40.0)\n",
            "Requirement already satisfied: ml-dtypes>=0.1.0 in /usr/local/lib/python3.10/dist-packages (from jax>=0.3.15->tensorflow->smote_variants) (0.1.0)\n",
            "Requirement already satisfied: contourpy>=1.0.1 in /usr/local/lib/python3.10/dist-packages (from matplotlib!=3.6.1,>=3.1->seaborn->smote_variants) (1.0.7)\n",
            "Requirement already satisfied: cycler>=0.10 in /usr/local/lib/python3.10/dist-packages (from matplotlib!=3.6.1,>=3.1->seaborn->smote_variants) (0.11.0)\n",
            "Requirement already satisfied: fonttools>=4.22.0 in /usr/local/lib/python3.10/dist-packages (from matplotlib!=3.6.1,>=3.1->seaborn->smote_variants) (4.39.3)\n",
            "Requirement already satisfied: kiwisolver>=1.0.1 in /usr/local/lib/python3.10/dist-packages (from matplotlib!=3.6.1,>=3.1->seaborn->smote_variants) (1.4.4)\n",
            "Requirement already satisfied: pillow>=6.2.0 in /usr/local/lib/python3.10/dist-packages (from matplotlib!=3.6.1,>=3.1->seaborn->smote_variants) (8.4.0)\n",
            "Requirement already satisfied: pyparsing>=2.3.1 in /usr/local/lib/python3.10/dist-packages (from matplotlib!=3.6.1,>=3.1->seaborn->smote_variants) (3.0.9)\n",
            "Requirement already satisfied: google-auth<3,>=1.6.3 in /usr/local/lib/python3.10/dist-packages (from tensorboard<2.13,>=2.12->tensorflow->smote_variants) (2.17.3)\n",
            "Requirement already satisfied: google-auth-oauthlib<1.1,>=0.5 in /usr/local/lib/python3.10/dist-packages (from tensorboard<2.13,>=2.12->tensorflow->smote_variants) (1.0.0)\n",
            "Requirement already satisfied: markdown>=2.6.8 in /usr/local/lib/python3.10/dist-packages (from tensorboard<2.13,>=2.12->tensorflow->smote_variants) (3.4.3)\n",
            "Requirement already satisfied: requests<3,>=2.21.0 in /usr/local/lib/python3.10/dist-packages (from tensorboard<2.13,>=2.12->tensorflow->smote_variants) (2.27.1)\n",
            "Requirement already satisfied: tensorboard-data-server<0.8.0,>=0.7.0 in /usr/local/lib/python3.10/dist-packages (from tensorboard<2.13,>=2.12->tensorflow->smote_variants) (0.7.0)\n",
            "Requirement already satisfied: tensorboard-plugin-wit>=1.6.0 in /usr/local/lib/python3.10/dist-packages (from tensorboard<2.13,>=2.12->tensorflow->smote_variants) (1.8.1)\n",
            "Requirement already satisfied: werkzeug>=1.0.1 in /usr/local/lib/python3.10/dist-packages (from tensorboard<2.13,>=2.12->tensorflow->smote_variants) (2.3.0)\n",
            "Requirement already satisfied: cachetools<6.0,>=2.0.0 in /usr/local/lib/python3.10/dist-packages (from google-auth<3,>=1.6.3->tensorboard<2.13,>=2.12->tensorflow->smote_variants) (5.3.0)\n",
            "Requirement already satisfied: pyasn1-modules>=0.2.1 in /usr/local/lib/python3.10/dist-packages (from google-auth<3,>=1.6.3->tensorboard<2.13,>=2.12->tensorflow->smote_variants) (0.3.0)\n",
            "Requirement already satisfied: rsa<5,>=3.1.4 in /usr/local/lib/python3.10/dist-packages (from google-auth<3,>=1.6.3->tensorboard<2.13,>=2.12->tensorflow->smote_variants) (4.9)\n",
            "Requirement already satisfied: requests-oauthlib>=0.7.0 in /usr/local/lib/python3.10/dist-packages (from google-auth-oauthlib<1.1,>=0.5->tensorboard<2.13,>=2.12->tensorflow->smote_variants) (1.3.1)\n",
            "Requirement already satisfied: urllib3<1.27,>=1.21.1 in /usr/local/lib/python3.10/dist-packages (from requests<3,>=2.21.0->tensorboard<2.13,>=2.12->tensorflow->smote_variants) (1.26.15)\n",
            "Requirement already satisfied: certifi>=2017.4.17 in /usr/local/lib/python3.10/dist-packages (from requests<3,>=2.21.0->tensorboard<2.13,>=2.12->tensorflow->smote_variants) (2022.12.7)\n",
            "Requirement already satisfied: charset-normalizer~=2.0.0 in /usr/local/lib/python3.10/dist-packages (from requests<3,>=2.21.0->tensorboard<2.13,>=2.12->tensorflow->smote_variants) (2.0.12)\n",
            "Requirement already satisfied: idna<4,>=2.5 in /usr/local/lib/python3.10/dist-packages (from requests<3,>=2.21.0->tensorboard<2.13,>=2.12->tensorflow->smote_variants) (3.4)\n",
            "Requirement already satisfied: MarkupSafe>=2.1.1 in /usr/local/lib/python3.10/dist-packages (from werkzeug>=1.0.1->tensorboard<2.13,>=2.12->tensorflow->smote_variants) (2.1.2)\n",
            "Requirement already satisfied: pyasn1<0.6.0,>=0.4.6 in /usr/local/lib/python3.10/dist-packages (from pyasn1-modules>=0.2.1->google-auth<3,>=1.6.3->tensorboard<2.13,>=2.12->tensorflow->smote_variants) (0.5.0)\n",
            "Requirement already satisfied: oauthlib>=3.0.0 in /usr/local/lib/python3.10/dist-packages (from requests-oauthlib>=0.7.0->google-auth-oauthlib<1.1,>=0.5->tensorboard<2.13,>=2.12->tensorflow->smote_variants) (3.2.2)\n",
            "Building wheels for collected packages: minisom, statistics\n",
            "  Building wheel for minisom (setup.py) ... \u001b[?25l\u001b[?25hdone\n",
            "  Created wheel for minisom: filename=MiniSom-2.3.1-py3-none-any.whl size=10589 sha256=4e5f1061998cdd57cd5c000f511cd7b8e1bb4a7148ceef1a388051cafef24c1f\n",
            "  Stored in directory: /root/.cache/pip/wheels/c7/92/d2/33bbda5f86fd8830510b16aa98c8dd420129b5cb24248fd6db\n",
            "  Building wheel for statistics (setup.py) ... \u001b[?25l\u001b[?25hdone\n",
            "  Created wheel for statistics: filename=statistics-1.0.3.5-py3-none-any.whl size=7438 sha256=a470f246b60c4ff926780aaa29a423d87934aef14aeae7f55d2c70e02199b57d\n",
            "  Stored in directory: /root/.cache/pip/wheels/59/bd/aa/41ad56fbb723d36e457b5be74feb992cdac2855a6999ba34a1\n",
            "Successfully built minisom statistics\n",
            "Installing collected packages: minisom, statistics, metric-learn, smote_variants\n",
            "Successfully installed metric-learn-0.6.2 minisom-2.3.1 smote_variants-0.7.1 statistics-1.0.3.5\n"
          ]
        }
      ]
    },
    {
      "cell_type": "code",
      "source": [
        "from imblearn.over_sampling import SMOTE\n",
        "from imblearn.under_sampling import RandomUnderSampler\n",
        "from imblearn.pipeline import Pipeline"
      ],
      "metadata": {
        "id": "kpmf1p6R252R"
      },
      "execution_count": null,
      "outputs": []
    },
    {
      "cell_type": "code",
      "source": [
        "# only oversampling\n",
        "def oversample_data(x, y, oversample_fraction):\n",
        "    oversample = SMOTE(sampling_strategy=oversample_fraction)\n",
        "    return oversample.fit_resample(x, y)"
      ],
      "metadata": {
        "id": "wGLAI63Z27vj"
      },
      "execution_count": null,
      "outputs": []
    },
    {
      "cell_type": "code",
      "source": [
        "# oversample and undersample\n",
        "def over_under_sample(x, y, upper_sample, under_sample):\n",
        "    over = SMOTE(sampling_strategy=upper_sample)\n",
        "    under = RandomUnderSampler(sampling_strategy=under_sample)\n",
        "    steps = [('o', over), ('u', under)]\n",
        "    pipeline = Pipeline(steps=steps)\n",
        "    return pipeline.fit_resample(x, y)"
      ],
      "metadata": {
        "id": "8krVKtWM3Ahd"
      },
      "execution_count": null,
      "outputs": []
    },
    {
      "cell_type": "markdown",
      "source": [
        "## Load train & test dataset"
      ],
      "metadata": {
        "id": "MnStKMs1BHEW"
      }
    },
    {
      "cell_type": "code",
      "source": [
        "# Importing Required Library\n",
        "import seaborn as sns\n",
        "import pandas as pd\n",
        "from sklearn.ensemble import RandomForestClassifier\n",
        "\n",
        "# Evaluation metrics\n",
        "from sklearn.metrics import accuracy_score, precision_score, recall_score, f1_score\n",
        "from sklearn.metrics import precision_recall_curve\n",
        "from sklearn.metrics import balanced_accuracy_score\n",
        "from sklearn.metrics import classification_report\n",
        "from sklearn.metrics import confusion_matrix"
      ],
      "metadata": {
        "id": "_Ht3YORG_fM7"
      },
      "execution_count": null,
      "outputs": []
    },
    {
      "cell_type": "code",
      "source": [
        "train_link = '/content/drive/MyDrive/Dataset/CICIDS2017/train and test/train_data.csv'\n",
        "test_link = '/content/drive/MyDrive/Dataset/CICIDS2017/train and test/test_data.csv'"
      ],
      "metadata": {
        "id": "YstgSMZq0cSb"
      },
      "execution_count": null,
      "outputs": []
    },
    {
      "cell_type": "code",
      "source": [
        "x_train = pd.read_csv(train_link)\n",
        "x_train.info()"
      ],
      "metadata": {
        "colab": {
          "base_uri": "https://localhost:8080/"
        },
        "id": "K2PqyVl14-sz",
        "outputId": "4ee14bd1-2f5f-4b9a-f627-d2d4bc553ff1"
      },
      "execution_count": null,
      "outputs": [
        {
          "output_type": "stream",
          "name": "stdout",
          "text": [
            "<class 'pandas.core.frame.DataFrame'>\n",
            "RangeIndex: 1696725 entries, 0 to 1696724\n",
            "Data columns (total 78 columns):\n",
            " #   Column                       Dtype  \n",
            "---  ------                       -----  \n",
            " 0   Flow Duration                int64  \n",
            " 1   Total Fwd Packets            int64  \n",
            " 2   Total Backward Packets       int64  \n",
            " 3   Total Length of Fwd Packets  int64  \n",
            " 4   Total Length of Bwd Packets  int64  \n",
            " 5   Fwd Packet Length Max        int64  \n",
            " 6   Fwd Packet Length Min        int64  \n",
            " 7   Fwd Packet Length Mean       float64\n",
            " 8   Fwd Packet Length Std        float64\n",
            " 9   Bwd Packet Length Max        int64  \n",
            " 10  Bwd Packet Length Min        int64  \n",
            " 11  Bwd Packet Length Mean       float64\n",
            " 12  Bwd Packet Length Std        float64\n",
            " 13  Flow Bytes/s                 float64\n",
            " 14  Flow Packets/s               float64\n",
            " 15  Flow IAT Mean                float64\n",
            " 16  Flow IAT Std                 float64\n",
            " 17  Flow IAT Max                 int64  \n",
            " 18  Flow IAT Min                 int64  \n",
            " 19  Fwd IAT Total                int64  \n",
            " 20  Fwd IAT Mean                 float64\n",
            " 21  Fwd IAT Std                  float64\n",
            " 22  Fwd IAT Max                  int64  \n",
            " 23  Fwd IAT Min                  int64  \n",
            " 24  Bwd IAT Total                int64  \n",
            " 25  Bwd IAT Mean                 float64\n",
            " 26  Bwd IAT Std                  float64\n",
            " 27  Bwd IAT Max                  int64  \n",
            " 28  Bwd IAT Min                  int64  \n",
            " 29  Fwd PSH Flags                int64  \n",
            " 30  Bwd PSH Flags                int64  \n",
            " 31  Fwd URG Flags                int64  \n",
            " 32  Bwd URG Flags                int64  \n",
            " 33  Fwd Header Length            int64  \n",
            " 34  Bwd Header Length            int64  \n",
            " 35  Fwd Packets/s                float64\n",
            " 36  Bwd Packets/s                float64\n",
            " 37  Min Packet Length            int64  \n",
            " 38  Max Packet Length            int64  \n",
            " 39  Packet Length Mean           float64\n",
            " 40  Packet Length Std            float64\n",
            " 41  Packet Length Variance       float64\n",
            " 42  FIN Flag Count               int64  \n",
            " 43  SYN Flag Count               int64  \n",
            " 44  RST Flag Count               int64  \n",
            " 45  PSH Flag Count               int64  \n",
            " 46  ACK Flag Count               int64  \n",
            " 47  URG Flag Count               int64  \n",
            " 48  CWE Flag Count               int64  \n",
            " 49  ECE Flag Count               int64  \n",
            " 50  Down/Up Ratio                int64  \n",
            " 51  Average Packet Size          float64\n",
            " 52  Avg Fwd Segment Size         float64\n",
            " 53  Avg Bwd Segment Size         float64\n",
            " 54  Fwd Header Length.1          int64  \n",
            " 55  Fwd Avg Bytes/Bulk           int64  \n",
            " 56  Fwd Avg Packets/Bulk         int64  \n",
            " 57  Fwd Avg Bulk Rate            int64  \n",
            " 58  Bwd Avg Bytes/Bulk           int64  \n",
            " 59  Bwd Avg Packets/Bulk         int64  \n",
            " 60  Bwd Avg Bulk Rate            int64  \n",
            " 61  Subflow Fwd Packets          int64  \n",
            " 62  Subflow Fwd Bytes            int64  \n",
            " 63  Subflow Bwd Packets          int64  \n",
            " 64  Subflow Bwd Bytes            int64  \n",
            " 65  Init_Win_bytes_forward       int64  \n",
            " 66  Init_Win_bytes_backward      int64  \n",
            " 67  act_data_pkt_fwd             int64  \n",
            " 68  min_seg_size_forward         int64  \n",
            " 69  Active Mean                  float64\n",
            " 70  Active Std                   float64\n",
            " 71  Active Max                   int64  \n",
            " 72  Active Min                   int64  \n",
            " 73  Idle Mean                    float64\n",
            " 74  Idle Std                     float64\n",
            " 75  Idle Max                     int64  \n",
            " 76  Idle Min                     int64  \n",
            " 77  Label                        object \n",
            "dtypes: float64(24), int64(53), object(1)\n",
            "memory usage: 1009.7+ MB\n"
          ]
        }
      ]
    },
    {
      "cell_type": "code",
      "source": [
        "x_test = pd.read_csv(test_link)\n",
        "x_test.info()"
      ],
      "metadata": {
        "colab": {
          "base_uri": "https://localhost:8080/"
        },
        "id": "bc9aK7ix5eVv",
        "outputId": "3f7c3fa4-aa65-4f17-8647-dcc85c3e8fa3"
      },
      "execution_count": null,
      "outputs": [
        {
          "output_type": "stream",
          "name": "stdout",
          "text": [
            "<class 'pandas.core.frame.DataFrame'>\n",
            "RangeIndex: 1131151 entries, 0 to 1131150\n",
            "Data columns (total 78 columns):\n",
            " #   Column                       Non-Null Count    Dtype  \n",
            "---  ------                       --------------    -----  \n",
            " 0   Flow Duration                1131151 non-null  int64  \n",
            " 1   Total Fwd Packets            1131151 non-null  int64  \n",
            " 2   Total Backward Packets       1131151 non-null  int64  \n",
            " 3   Total Length of Fwd Packets  1131151 non-null  int64  \n",
            " 4   Total Length of Bwd Packets  1131151 non-null  int64  \n",
            " 5   Fwd Packet Length Max        1131151 non-null  int64  \n",
            " 6   Fwd Packet Length Min        1131151 non-null  int64  \n",
            " 7   Fwd Packet Length Mean       1131151 non-null  float64\n",
            " 8   Fwd Packet Length Std        1131151 non-null  float64\n",
            " 9   Bwd Packet Length Max        1131151 non-null  int64  \n",
            " 10  Bwd Packet Length Min        1131151 non-null  int64  \n",
            " 11  Bwd Packet Length Mean       1131151 non-null  float64\n",
            " 12  Bwd Packet Length Std        1131151 non-null  float64\n",
            " 13  Flow Bytes/s                 1131151 non-null  float64\n",
            " 14  Flow Packets/s               1131151 non-null  float64\n",
            " 15  Flow IAT Mean                1131151 non-null  float64\n",
            " 16  Flow IAT Std                 1131151 non-null  float64\n",
            " 17  Flow IAT Max                 1131151 non-null  int64  \n",
            " 18  Flow IAT Min                 1131151 non-null  int64  \n",
            " 19  Fwd IAT Total                1131151 non-null  int64  \n",
            " 20  Fwd IAT Mean                 1131151 non-null  float64\n",
            " 21  Fwd IAT Std                  1131151 non-null  float64\n",
            " 22  Fwd IAT Max                  1131151 non-null  int64  \n",
            " 23  Fwd IAT Min                  1131151 non-null  int64  \n",
            " 24  Bwd IAT Total                1131151 non-null  int64  \n",
            " 25  Bwd IAT Mean                 1131151 non-null  float64\n",
            " 26  Bwd IAT Std                  1131151 non-null  float64\n",
            " 27  Bwd IAT Max                  1131151 non-null  int64  \n",
            " 28  Bwd IAT Min                  1131151 non-null  int64  \n",
            " 29  Fwd PSH Flags                1131151 non-null  int64  \n",
            " 30  Bwd PSH Flags                1131151 non-null  int64  \n",
            " 31  Fwd URG Flags                1131151 non-null  int64  \n",
            " 32  Bwd URG Flags                1131151 non-null  int64  \n",
            " 33  Fwd Header Length            1131151 non-null  int64  \n",
            " 34  Bwd Header Length            1131151 non-null  int64  \n",
            " 35  Fwd Packets/s                1131151 non-null  float64\n",
            " 36  Bwd Packets/s                1131151 non-null  float64\n",
            " 37  Min Packet Length            1131151 non-null  int64  \n",
            " 38  Max Packet Length            1131151 non-null  int64  \n",
            " 39  Packet Length Mean           1131151 non-null  float64\n",
            " 40  Packet Length Std            1131151 non-null  float64\n",
            " 41  Packet Length Variance       1131151 non-null  float64\n",
            " 42  FIN Flag Count               1131151 non-null  int64  \n",
            " 43  SYN Flag Count               1131151 non-null  int64  \n",
            " 44  RST Flag Count               1131151 non-null  int64  \n",
            " 45  PSH Flag Count               1131151 non-null  int64  \n",
            " 46  ACK Flag Count               1131151 non-null  int64  \n",
            " 47  URG Flag Count               1131151 non-null  int64  \n",
            " 48  CWE Flag Count               1131151 non-null  int64  \n",
            " 49  ECE Flag Count               1131151 non-null  int64  \n",
            " 50  Down/Up Ratio                1131151 non-null  int64  \n",
            " 51  Average Packet Size          1131151 non-null  float64\n",
            " 52  Avg Fwd Segment Size         1131151 non-null  float64\n",
            " 53  Avg Bwd Segment Size         1131151 non-null  float64\n",
            " 54  Fwd Header Length.1          1131151 non-null  int64  \n",
            " 55  Fwd Avg Bytes/Bulk           1131151 non-null  int64  \n",
            " 56  Fwd Avg Packets/Bulk         1131151 non-null  int64  \n",
            " 57  Fwd Avg Bulk Rate            1131151 non-null  int64  \n",
            " 58  Bwd Avg Bytes/Bulk           1131151 non-null  int64  \n",
            " 59  Bwd Avg Packets/Bulk         1131151 non-null  int64  \n",
            " 60  Bwd Avg Bulk Rate            1131151 non-null  int64  \n",
            " 61  Subflow Fwd Packets          1131151 non-null  int64  \n",
            " 62  Subflow Fwd Bytes            1131151 non-null  int64  \n",
            " 63  Subflow Bwd Packets          1131151 non-null  int64  \n",
            " 64  Subflow Bwd Bytes            1131151 non-null  int64  \n",
            " 65  Init_Win_bytes_forward       1131151 non-null  int64  \n",
            " 66  Init_Win_bytes_backward      1131151 non-null  int64  \n",
            " 67  act_data_pkt_fwd             1131151 non-null  int64  \n",
            " 68  min_seg_size_forward         1131151 non-null  int64  \n",
            " 69  Active Mean                  1131151 non-null  float64\n",
            " 70  Active Std                   1131151 non-null  float64\n",
            " 71  Active Max                   1131151 non-null  int64  \n",
            " 72  Active Min                   1131151 non-null  int64  \n",
            " 73  Idle Mean                    1131151 non-null  float64\n",
            " 74  Idle Std                     1131151 non-null  float64\n",
            " 75  Idle Max                     1131151 non-null  int64  \n",
            " 76  Idle Min                     1131151 non-null  int64  \n",
            " 77  Label                        1131151 non-null  object \n",
            "dtypes: float64(24), int64(53), object(1)\n",
            "memory usage: 673.1+ MB\n"
          ]
        }
      ]
    },
    {
      "cell_type": "markdown",
      "source": [
        "## Encode "
      ],
      "metadata": {
        "id": "2nko3m0x3uA5"
      }
    },
    {
      "cell_type": "code",
      "source": [
        "# Maping data into categories\n",
        "y_train = x_train['Label'].map({\n",
        "    'BENIGN': 0,\n",
        "    'DoS Hulk': 1,        \n",
        "    'DoS GoldenEye': 2, \n",
        "    'DoS slowloris': 3,       \n",
        "    'DoS Slowhttptest': 4,\n",
        "    'DDoS': 5, \n",
        "    'PortScan': 6, \n",
        "    'FTP-Patator': 7, \n",
        "    'SSH-Patator': 8, \n",
        "    'Web Attack': 9, \n",
        "    'Bot': 10, \n",
        "    'Infiltration': 11,\n",
        "    'Heartbleed': 12,     \n",
        "})"
      ],
      "metadata": {
        "id": "XGS4v-SxBia4"
      },
      "execution_count": null,
      "outputs": []
    },
    {
      "cell_type": "code",
      "source": [
        "x_train.drop('Label', axis=1, inplace=True)"
      ],
      "metadata": {
        "id": "9ynDreXR3rEd"
      },
      "execution_count": null,
      "outputs": []
    },
    {
      "cell_type": "code",
      "source": [
        "y_train.value_counts()"
      ],
      "metadata": {
        "colab": {
          "base_uri": "https://localhost:8080/"
        },
        "id": "hDyWtVWaeu4i",
        "outputId": "1c8d368e-af0d-4b6c-a23a-fbc110a36c3b"
      },
      "execution_count": null,
      "outputs": [
        {
          "output_type": "execute_result",
          "data": {
            "text/plain": [
              "0     1361979\n",
              "1      138547\n",
              "6       95405\n",
              "5       76909\n",
              "2        6207\n",
              "7        4744\n",
              "8        3583\n",
              "3        3498\n",
              "4        3329\n",
              "9        1326\n",
              "10       1167\n",
              "11         25\n",
              "12          6\n",
              "Name: Label, dtype: int64"
            ]
          },
          "metadata": {},
          "execution_count": 21
        }
      ]
    },
    {
      "cell_type": "code",
      "source": [
        "# Maping data into categories\n",
        "y_test = x_test['Label'].map({\n",
        "    'BENIGN': 0,\n",
        "    'DoS Hulk': 1,        \n",
        "    'DoS GoldenEye': 2, \n",
        "    'DoS slowloris': 3,       \n",
        "    'DoS Slowhttptest': 4,\n",
        "    'DDoS': 5, \n",
        "    'PortScan': 6, \n",
        "    'FTP-Patator': 7, \n",
        "    'SSH-Patator': 8, \n",
        "    'Web Attack': 9, \n",
        "    'Bot': 10, \n",
        "    'Infiltration': 11,\n",
        "    'Heartbleed': 12,     \n",
        "})"
      ],
      "metadata": {
        "id": "eKP-rXPZ6hae"
      },
      "execution_count": null,
      "outputs": []
    },
    {
      "cell_type": "code",
      "source": [
        "x_test.drop('Label', axis=1, inplace=True)"
      ],
      "metadata": {
        "id": "uKDKrpgv6jud"
      },
      "execution_count": null,
      "outputs": []
    },
    {
      "cell_type": "markdown",
      "source": [
        "## Modeling"
      ],
      "metadata": {
        "id": "y45y8VNoqomN"
      }
    },
    {
      "cell_type": "code",
      "source": [
        "# ONLY FOR SMOTE MODEL\n",
        "up_strategy = {12:10000, 11:10000, 10:10000}\n",
        "down_strategy = {0:1000000, 1:100000}\n",
        "x_train, y_train = over_under_sample(x_train, y_train, up_strategy, down_strategy)"
      ],
      "metadata": {
        "id": "HkJYGJz858AO"
      },
      "execution_count": null,
      "outputs": []
    },
    {
      "cell_type": "code",
      "source": [
        "clf = RandomForestClassifier(random_state = 1)\n",
        "clf.fit(x_train, y_train)"
      ],
      "metadata": {
        "colab": {
          "base_uri": "https://localhost:8080/",
          "height": 74
        },
        "id": "JNVL7BYXHaqS",
        "outputId": "c00b0bfc-e7bb-4de3-d8ae-8503c92a5971"
      },
      "execution_count": null,
      "outputs": [
        {
          "output_type": "execute_result",
          "data": {
            "text/plain": [
              "RandomForestClassifier(random_state=1)"
            ],
            "text/html": [
              "<style>#sk-container-id-1 {color: black;background-color: white;}#sk-container-id-1 pre{padding: 0;}#sk-container-id-1 div.sk-toggleable {background-color: white;}#sk-container-id-1 label.sk-toggleable__label {cursor: pointer;display: block;width: 100%;margin-bottom: 0;padding: 0.3em;box-sizing: border-box;text-align: center;}#sk-container-id-1 label.sk-toggleable__label-arrow:before {content: \"▸\";float: left;margin-right: 0.25em;color: #696969;}#sk-container-id-1 label.sk-toggleable__label-arrow:hover:before {color: black;}#sk-container-id-1 div.sk-estimator:hover label.sk-toggleable__label-arrow:before {color: black;}#sk-container-id-1 div.sk-toggleable__content {max-height: 0;max-width: 0;overflow: hidden;text-align: left;background-color: #f0f8ff;}#sk-container-id-1 div.sk-toggleable__content pre {margin: 0.2em;color: black;border-radius: 0.25em;background-color: #f0f8ff;}#sk-container-id-1 input.sk-toggleable__control:checked~div.sk-toggleable__content {max-height: 200px;max-width: 100%;overflow: auto;}#sk-container-id-1 input.sk-toggleable__control:checked~label.sk-toggleable__label-arrow:before {content: \"▾\";}#sk-container-id-1 div.sk-estimator input.sk-toggleable__control:checked~label.sk-toggleable__label {background-color: #d4ebff;}#sk-container-id-1 div.sk-label input.sk-toggleable__control:checked~label.sk-toggleable__label {background-color: #d4ebff;}#sk-container-id-1 input.sk-hidden--visually {border: 0;clip: rect(1px 1px 1px 1px);clip: rect(1px, 1px, 1px, 1px);height: 1px;margin: -1px;overflow: hidden;padding: 0;position: absolute;width: 1px;}#sk-container-id-1 div.sk-estimator {font-family: monospace;background-color: #f0f8ff;border: 1px dotted black;border-radius: 0.25em;box-sizing: border-box;margin-bottom: 0.5em;}#sk-container-id-1 div.sk-estimator:hover {background-color: #d4ebff;}#sk-container-id-1 div.sk-parallel-item::after {content: \"\";width: 100%;border-bottom: 1px solid gray;flex-grow: 1;}#sk-container-id-1 div.sk-label:hover label.sk-toggleable__label {background-color: #d4ebff;}#sk-container-id-1 div.sk-serial::before {content: \"\";position: absolute;border-left: 1px solid gray;box-sizing: border-box;top: 0;bottom: 0;left: 50%;z-index: 0;}#sk-container-id-1 div.sk-serial {display: flex;flex-direction: column;align-items: center;background-color: white;padding-right: 0.2em;padding-left: 0.2em;position: relative;}#sk-container-id-1 div.sk-item {position: relative;z-index: 1;}#sk-container-id-1 div.sk-parallel {display: flex;align-items: stretch;justify-content: center;background-color: white;position: relative;}#sk-container-id-1 div.sk-item::before, #sk-container-id-1 div.sk-parallel-item::before {content: \"\";position: absolute;border-left: 1px solid gray;box-sizing: border-box;top: 0;bottom: 0;left: 50%;z-index: -1;}#sk-container-id-1 div.sk-parallel-item {display: flex;flex-direction: column;z-index: 1;position: relative;background-color: white;}#sk-container-id-1 div.sk-parallel-item:first-child::after {align-self: flex-end;width: 50%;}#sk-container-id-1 div.sk-parallel-item:last-child::after {align-self: flex-start;width: 50%;}#sk-container-id-1 div.sk-parallel-item:only-child::after {width: 0;}#sk-container-id-1 div.sk-dashed-wrapped {border: 1px dashed gray;margin: 0 0.4em 0.5em 0.4em;box-sizing: border-box;padding-bottom: 0.4em;background-color: white;}#sk-container-id-1 div.sk-label label {font-family: monospace;font-weight: bold;display: inline-block;line-height: 1.2em;}#sk-container-id-1 div.sk-label-container {text-align: center;}#sk-container-id-1 div.sk-container {/* jupyter's `normalize.less` sets `[hidden] { display: none; }` but bootstrap.min.css set `[hidden] { display: none !important; }` so we also need the `!important` here to be able to override the default hidden behavior on the sphinx rendered scikit-learn.org. See: https://github.com/scikit-learn/scikit-learn/issues/21755 */display: inline-block !important;position: relative;}#sk-container-id-1 div.sk-text-repr-fallback {display: none;}</style><div id=\"sk-container-id-1\" class=\"sk-top-container\"><div class=\"sk-text-repr-fallback\"><pre>RandomForestClassifier(random_state=1)</pre><b>In a Jupyter environment, please rerun this cell to show the HTML representation or trust the notebook. <br />On GitHub, the HTML representation is unable to render, please try loading this page with nbviewer.org.</b></div><div class=\"sk-container\" hidden><div class=\"sk-item\"><div class=\"sk-estimator sk-toggleable\"><input class=\"sk-toggleable__control sk-hidden--visually\" id=\"sk-estimator-id-1\" type=\"checkbox\" checked><label for=\"sk-estimator-id-1\" class=\"sk-toggleable__label sk-toggleable__label-arrow\">RandomForestClassifier</label><div class=\"sk-toggleable__content\"><pre>RandomForestClassifier(random_state=1)</pre></div></div></div></div></div>"
            ]
          },
          "metadata": {},
          "execution_count": 25
        }
      ]
    },
    {
      "cell_type": "markdown",
      "source": [
        "## Evaluate"
      ],
      "metadata": {
        "id": "a6WxxdFnLHS9"
      }
    },
    {
      "cell_type": "code",
      "source": [
        "def evaluation(y_test, y_pred):\n",
        "  print('Misclassified samples: %d' % (y_test != y_pred).sum())\n",
        "  result = confusion_matrix(y_test, y_pred, normalize='true')\n",
        "  #print(\"Confusion Matrix:\")\n",
        "  #print(result)\n",
        "  sns.heatmap(result, annot=True)\n",
        "  result1 = classification_report(y_test, y_pred)\n",
        "  print(\"Classification Report:\",)\n",
        "  print (result1)\n",
        "  result2 = 100* accuracy_score(y_test, y_pred)\n",
        "  print(\"Accuracy:\", result2)\n",
        "  result3 = precision_score(y_test, y_pred, average='weighted')\n",
        "  print(\"Precision:\",result3)\n",
        "  result4 = recall_score(y_test, y_pred, average='weighted')\n",
        "  print(\"Recall:\",result4)\n",
        "  result5 = f1_score(y_test, y_pred, average='weighted')\n",
        "  print(\"F1:\",result5)"
      ],
      "metadata": {
        "id": "Ytd1vnNS4cSY"
      },
      "execution_count": null,
      "outputs": []
    },
    {
      "cell_type": "code",
      "source": [
        "y_pred = clf.predict(x_test)"
      ],
      "metadata": {
        "id": "9SyfJnshKROu"
      },
      "execution_count": null,
      "outputs": []
    },
    {
      "cell_type": "code",
      "source": [
        "evaluation(y_test, y_pred)"
      ],
      "metadata": {
        "colab": {
          "base_uri": "https://localhost:8080/",
          "height": 886
        },
        "id": "rPEyjuKT6_Y8",
        "outputId": "abb2f157-b92f-47a5-c8b1-83ef62cb6064"
      },
      "execution_count": null,
      "outputs": [
        {
          "output_type": "stream",
          "name": "stdout",
          "text": [
            "Misclassified samples: 1588\n",
            "Classification Report:\n",
            "              precision    recall  f1-score   support\n",
            "\n",
            "           0       1.00      1.00      1.00    909341\n",
            "           1       1.00      1.00      1.00     91577\n",
            "           2       1.00      0.99      1.00      4086\n",
            "           3       1.00      0.99      1.00      2298\n",
            "           4       0.95      0.99      0.97      2170\n",
            "           5       1.00      1.00      1.00     51116\n",
            "           6       0.99      1.00      1.00     63399\n",
            "           7       1.00      1.00      1.00      3191\n",
            "           8       1.00      0.99      1.00      2314\n",
            "           9       0.99      0.93      0.96       854\n",
            "          10       0.70      0.87      0.78       789\n",
            "          11       1.00      0.73      0.84        11\n",
            "          12       1.00      1.00      1.00         5\n",
            "\n",
            "    accuracy                           1.00   1131151\n",
            "   macro avg       0.97      0.96      0.96   1131151\n",
            "weighted avg       1.00      1.00      1.00   1131151\n",
            "\n",
            "Accuracy: 99.85961202350526\n",
            "Precision: 0.9986496678274968\n",
            "Recall: 0.9985961202350526\n",
            "F1: 0.9986147865775434\n"
          ]
        },
        {
          "output_type": "display_data",
          "data": {
            "text/plain": [
              "<Figure size 640x480 with 2 Axes>"
            ],
            "image/png": "[encoded data removed]"
          },
          "metadata": {}
        }
      ]
    },
    {
      "cell_type": "markdown",
      "source": [
        "# Save model"
      ],
      "metadata": {
        "id": "Ii-fm1Z5A4iG"
      }
    },
    {
      "cell_type": "code",
      "source": [
        "import joblib\n",
        "# Save the model to an H5 file\n",
        "joblib.dump(clf, '/content/drive/MyDrive/Models/RF_SMOTE.h5')"
      ],
      "metadata": {
        "colab": {
          "base_uri": "https://localhost:8080/"
        },
        "id": "a7oGg3sEA4E_",
        "outputId": "179b10d0-58cf-41b2-8748-d3fe49338298"
      },
      "execution_count": null,
      "outputs": [
        {
          "output_type": "execute_result",
          "data": {
            "text/plain": [
              "['/content/drive/MyDrive/Models/RF_SMOTE.h5']"
            ]
          },
          "metadata": {},
          "execution_count": 31
        }
      ]
    }
  ]
}