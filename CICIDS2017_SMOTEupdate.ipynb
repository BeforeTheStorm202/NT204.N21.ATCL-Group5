{
  "nbformat": 4,
  "nbformat_minor": 0,
  "metadata": {
    "colab": {
      "provenance": [],
      "collapsed_sections": [
        "pfsXKULnOzso",
        "SVKuWS3V23IU",
        "qdWcZpyQRUor",
        "HSR3hnUtVBxm",
        "IovAf37VFrmZ"
      ],
      "toc_visible": true
    },
    "kernelspec": {
      "name": "python3",
      "display_name": "Python 3"
    },
    "language_info": {
      "name": "python"
    }
  },
  "cells": [
    {
      "cell_type": "code",
      "execution_count": null,
      "metadata": {
        "id": "sBtvrGp4a6IJ"
      },
      "outputs": [],
      "source": [
        "import matplotlib.pyplot as plt\n",
        "import pandas as pd\n",
        "import numpy as np\n",
        "from os import listdir\n",
        "from os.path import isfile, join\n",
        "from sklearn.ensemble import RandomForestClassifier\n",
        "from sklearn.model_selection import train_test_split\n",
        "from sklearn.metrics import accuracy_score, confusion_matrix\n",
        "import seaborn as sns"
      ]
    },
    {
      "cell_type": "markdown",
      "source": [
        "## Read Data"
      ],
      "metadata": {
        "id": "qNKoEue7sTsv"
      }
    },
    {
      "cell_type": "code",
      "source": [
        "# list tất cả path của file trong thư mục\n",
        "df_main = pd.DataFrame(data=None)\n",
        "dataset_path = '/content/drive/MyDrive/Dataset/cicids2017'\n",
        "all_samples = [f for f in listdir(dataset_path) if isfile(join(dataset_path, f))] #list comprehension\n",
        "for samples in all_samples:\n",
        "    file_path = join(dataset_path, samples)\n",
        "    print(file_path)\n",
        "    temp = pd.read_csv(file_path)\n",
        "    df_main = pd.concat([df_main, temp], ignore_index=True)"
      ],
      "metadata": {
        "colab": {
          "base_uri": "https://localhost:8080/"
        },
        "id": "daI1pKAasVc_",
        "outputId": "6aa88a65-7e6e-4f11-8291-d699cacb5ab7"
      },
      "execution_count": null,
      "outputs": [
        {
          "output_type": "stream",
          "name": "stdout",
          "text": [
            "/content/drive/MyDrive/Dataset/cicids2017/Thursday-WebAttacks.csv\n",
            "/content/drive/MyDrive/Dataset/cicids2017/Wednesday-DDoS-HeartBleed.csv\n",
            "/content/drive/MyDrive/Dataset/cicids2017/Monday.csv\n",
            "/content/drive/MyDrive/Dataset/cicids2017/Friday-Botnet.csv\n",
            "/content/drive/MyDrive/Dataset/cicids2017/Friday-DDoS.csv\n",
            "/content/drive/MyDrive/Dataset/cicids2017/Tuesday-BruteForce.csv\n",
            "/content/drive/MyDrive/Dataset/cicids2017/Thursday-Infilteration.csv\n",
            "/content/drive/MyDrive/Dataset/cicids2017/Friday-PortScan.csv\n"
          ]
        }
      ]
    },
    {
      "cell_type": "code",
      "source": [
        "# Remove unnecessary data\n",
        "import gc\n",
        "del temp\n",
        "gc.collect()"
      ],
      "metadata": {
        "colab": {
          "base_uri": "https://localhost:8080/"
        },
        "id": "HHvgHxbVuE-2",
        "outputId": "b5c0fae9-b98a-480a-ef41-e11579d1ace5"
      },
      "execution_count": null,
      "outputs": [
        {
          "output_type": "execute_result",
          "data": {
            "text/plain": [
              "0"
            ]
          },
          "metadata": {},
          "execution_count": 3
        }
      ]
    },
    {
      "cell_type": "markdown",
      "source": [
        "## Analyze Data"
      ],
      "metadata": {
        "id": "uYZ3bZXlj4sJ"
      }
    },
    {
      "cell_type": "code",
      "source": [
        "df_main.shape"
      ],
      "metadata": {
        "colab": {
          "base_uri": "https://localhost:8080/"
        },
        "id": "zRdj9NzvkEfs",
        "outputId": "153e84c8-8d51-41b8-f444-e543bed0775f"
      },
      "execution_count": null,
      "outputs": [
        {
          "output_type": "execute_result",
          "data": {
            "text/plain": [
              "(2830743, 79)"
            ]
          },
          "metadata": {},
          "execution_count": 4
        }
      ]
    },
    {
      "cell_type": "code",
      "source": [
        "df_main.columns"
      ],
      "metadata": {
        "colab": {
          "base_uri": "https://localhost:8080/"
        },
        "id": "SUvfy6w933fX",
        "outputId": "9fe0c695-3bf3-4c4e-aad5-2a0b4e728832"
      },
      "execution_count": null,
      "outputs": [
        {
          "output_type": "execute_result",
          "data": {
            "text/plain": [
              "Index([' Destination Port', ' Flow Duration', ' Total Fwd Packets',\n",
              "       ' Total Backward Packets', 'Total Length of Fwd Packets',\n",
              "       ' Total Length of Bwd Packets', ' Fwd Packet Length Max',\n",
              "       ' Fwd Packet Length Min', ' Fwd Packet Length Mean',\n",
              "       ' Fwd Packet Length Std', 'Bwd Packet Length Max',\n",
              "       ' Bwd Packet Length Min', ' Bwd Packet Length Mean',\n",
              "       ' Bwd Packet Length Std', 'Flow Bytes/s', ' Flow Packets/s',\n",
              "       ' Flow IAT Mean', ' Flow IAT Std', ' Flow IAT Max', ' Flow IAT Min',\n",
              "       'Fwd IAT Total', ' Fwd IAT Mean', ' Fwd IAT Std', ' Fwd IAT Max',\n",
              "       ' Fwd IAT Min', 'Bwd IAT Total', ' Bwd IAT Mean', ' Bwd IAT Std',\n",
              "       ' Bwd IAT Max', ' Bwd IAT Min', 'Fwd PSH Flags', ' Bwd PSH Flags',\n",
              "       ' Fwd URG Flags', ' Bwd URG Flags', ' Fwd Header Length',\n",
              "       ' Bwd Header Length', 'Fwd Packets/s', ' Bwd Packets/s',\n",
              "       ' Min Packet Length', ' Max Packet Length', ' Packet Length Mean',\n",
              "       ' Packet Length Std', ' Packet Length Variance', 'FIN Flag Count',\n",
              "       ' SYN Flag Count', ' RST Flag Count', ' PSH Flag Count',\n",
              "       ' ACK Flag Count', ' URG Flag Count', ' CWE Flag Count',\n",
              "       ' ECE Flag Count', ' Down/Up Ratio', ' Average Packet Size',\n",
              "       ' Avg Fwd Segment Size', ' Avg Bwd Segment Size',\n",
              "       ' Fwd Header Length.1', 'Fwd Avg Bytes/Bulk', ' Fwd Avg Packets/Bulk',\n",
              "       ' Fwd Avg Bulk Rate', ' Bwd Avg Bytes/Bulk', ' Bwd Avg Packets/Bulk',\n",
              "       'Bwd Avg Bulk Rate', 'Subflow Fwd Packets', ' Subflow Fwd Bytes',\n",
              "       ' Subflow Bwd Packets', ' Subflow Bwd Bytes', 'Init_Win_bytes_forward',\n",
              "       ' Init_Win_bytes_backward', ' act_data_pkt_fwd',\n",
              "       ' min_seg_size_forward', 'Active Mean', ' Active Std', ' Active Max',\n",
              "       ' Active Min', 'Idle Mean', ' Idle Std', ' Idle Max', ' Idle Min',\n",
              "       ' Label'],\n",
              "      dtype='object')"
            ]
          },
          "metadata": {},
          "execution_count": 5
        }
      ]
    },
    {
      "cell_type": "code",
      "source": [
        "df_main.head()"
      ],
      "metadata": {
        "colab": {
          "base_uri": "https://localhost:8080/"
        },
        "id": "prZzpgYDj68s",
        "outputId": "281ccad9-fb25-48c7-eb66-3e6abaed463b"
      },
      "execution_count": null,
      "outputs": [
        {
          "output_type": "execute_result",
          "data": {
            "text/plain": [
              "    Destination Port   Flow Duration   Total Fwd Packets  \\\n",
              "0                389       113095465                  48   \n",
              "1                389       113473706                  68   \n",
              "2                  0       119945515                 150   \n",
              "3                443        60261928                   9   \n",
              "4                 53             269                   2   \n",
              "\n",
              "    Total Backward Packets  Total Length of Fwd Packets  \\\n",
              "0                       24                         9668   \n",
              "1                       40                        11364   \n",
              "2                        0                            0   \n",
              "3                        7                         2330   \n",
              "4                        2                          102   \n",
              "\n",
              "    Total Length of Bwd Packets   Fwd Packet Length Max  \\\n",
              "0                         10012                     403   \n",
              "1                         12718                     403   \n",
              "2                             0                       0   \n",
              "3                          4221                    1093   \n",
              "4                           322                      51   \n",
              "\n",
              "    Fwd Packet Length Min   Fwd Packet Length Mean   Fwd Packet Length Std  \\\n",
              "0                       0               201.416667              203.548293   \n",
              "1                       0               167.117647              171.919413   \n",
              "2                       0                 0.000000                0.000000   \n",
              "3                       0               258.888889              409.702161   \n",
              "4                      51                51.000000                0.000000   \n",
              "\n",
              "   ...   min_seg_size_forward  Active Mean    Active Std   Active Max  \\\n",
              "0  ...                     32   203985.500  5.758373e+05      1629110   \n",
              "1  ...                     32   178326.875  5.034269e+05      1424245   \n",
              "2  ...                      0  6909777.333  1.170000e+07     20400000   \n",
              "3  ...                     20        0.000  0.000000e+00            0   \n",
              "4  ...                     32        0.000  0.000000e+00            0   \n",
              "\n",
              "    Active Min   Idle Mean      Idle Std   Idle Max   Idle Min   Label  \n",
              "0          379  13800000.0  4.277541e+06   16500000    6737603  BENIGN  \n",
              "1          325  13800000.0  4.229413e+06   16500000    6945512  BENIGN  \n",
              "2            6  24400000.0  2.430000e+07   60100000    5702188  BENIGN  \n",
              "3            0         0.0  0.000000e+00          0          0  BENIGN  \n",
              "4            0         0.0  0.000000e+00          0          0  BENIGN  \n",
              "\n",
              "[5 rows x 79 columns]"
            ],
            "text/html": [
              "\n",
              "  <div id=\"df-0ba16ada-fde8-47c9-87c3-3bc443b50b5d\">\n",
              "    <div class=\"colab-df-container\">\n",
              "      <div>\n",
              "<style scoped>\n",
              "    .dataframe tbody tr th:only-of-type {\n",
              "        vertical-align: middle;\n",
              "    }\n",
              "\n",
              "    .dataframe tbody tr th {\n",
              "        vertical-align: top;\n",
              "    }\n",
              "\n",
              "    .dataframe thead th {\n",
              "        text-align: right;\n",
              "    }\n",
              "</style>\n",
              "<table border=\"1\" class=\"dataframe\">\n",
              "  <thead>\n",
              "    <tr style=\"text-align: right;\">\n",
              "      <th></th>\n",
              "      <th>Destination Port</th>\n",
              "      <th>Flow Duration</th>\n",
              "      <th>Total Fwd Packets</th>\n",
              "      <th>Total Backward Packets</th>\n",
              "      <th>Total Length of Fwd Packets</th>\n",
              "      <th>Total Length of Bwd Packets</th>\n",
              "      <th>Fwd Packet Length Max</th>\n",
              "      <th>Fwd Packet Length Min</th>\n",
              "      <th>Fwd Packet Length Mean</th>\n",
              "      <th>Fwd Packet Length Std</th>\n",
              "      <th>...</th>\n",
              "      <th>min_seg_size_forward</th>\n",
              "      <th>Active Mean</th>\n",
              "      <th>Active Std</th>\n",
              "      <th>Active Max</th>\n",
              "      <th>Active Min</th>\n",
              "      <th>Idle Mean</th>\n",
              "      <th>Idle Std</th>\n",
              "      <th>Idle Max</th>\n",
              "      <th>Idle Min</th>\n",
              "      <th>Label</th>\n",
              "    </tr>\n",
              "  </thead>\n",
              "  <tbody>\n",
              "    <tr>\n",
              "      <th>0</th>\n",
              "      <td>389</td>\n",
              "      <td>113095465</td>\n",
              "      <td>48</td>\n",
              "      <td>24</td>\n",
              "      <td>9668</td>\n",
              "      <td>10012</td>\n",
              "      <td>403</td>\n",
              "      <td>0</td>\n",
              "      <td>201.416667</td>\n",
              "      <td>203.548293</td>\n",
              "      <td>...</td>\n",
              "      <td>32</td>\n",
              "      <td>203985.500</td>\n",
              "      <td>5.758373e+05</td>\n",
              "      <td>1629110</td>\n",
              "      <td>379</td>\n",
              "      <td>13800000.0</td>\n",
              "      <td>4.277541e+06</td>\n",
              "      <td>16500000</td>\n",
              "      <td>6737603</td>\n",
              "      <td>BENIGN</td>\n",
              "    </tr>\n",
              "    <tr>\n",
              "      <th>1</th>\n",
              "      <td>389</td>\n",
              "      <td>113473706</td>\n",
              "      <td>68</td>\n",
              "      <td>40</td>\n",
              "      <td>11364</td>\n",
              "      <td>12718</td>\n",
              "      <td>403</td>\n",
              "      <td>0</td>\n",
              "      <td>167.117647</td>\n",
              "      <td>171.919413</td>\n",
              "      <td>...</td>\n",
              "      <td>32</td>\n",
              "      <td>178326.875</td>\n",
              "      <td>5.034269e+05</td>\n",
              "      <td>1424245</td>\n",
              "      <td>325</td>\n",
              "      <td>13800000.0</td>\n",
              "      <td>4.229413e+06</td>\n",
              "      <td>16500000</td>\n",
              "      <td>6945512</td>\n",
              "      <td>BENIGN</td>\n",
              "    </tr>\n",
              "    <tr>\n",
              "      <th>2</th>\n",
              "      <td>0</td>\n",
              "      <td>119945515</td>\n",
              "      <td>150</td>\n",
              "      <td>0</td>\n",
              "      <td>0</td>\n",
              "      <td>0</td>\n",
              "      <td>0</td>\n",
              "      <td>0</td>\n",
              "      <td>0.000000</td>\n",
              "      <td>0.000000</td>\n",
              "      <td>...</td>\n",
              "      <td>0</td>\n",
              "      <td>6909777.333</td>\n",
              "      <td>1.170000e+07</td>\n",
              "      <td>20400000</td>\n",
              "      <td>6</td>\n",
              "      <td>24400000.0</td>\n",
              "      <td>2.430000e+07</td>\n",
              "      <td>60100000</td>\n",
              "      <td>5702188</td>\n",
              "      <td>BENIGN</td>\n",
              "    </tr>\n",
              "    <tr>\n",
              "      <th>3</th>\n",
              "      <td>443</td>\n",
              "      <td>60261928</td>\n",
              "      <td>9</td>\n",
              "      <td>7</td>\n",
              "      <td>2330</td>\n",
              "      <td>4221</td>\n",
              "      <td>1093</td>\n",
              "      <td>0</td>\n",
              "      <td>258.888889</td>\n",
              "      <td>409.702161</td>\n",
              "      <td>...</td>\n",
              "      <td>20</td>\n",
              "      <td>0.000</td>\n",
              "      <td>0.000000e+00</td>\n",
              "      <td>0</td>\n",
              "      <td>0</td>\n",
              "      <td>0.0</td>\n",
              "      <td>0.000000e+00</td>\n",
              "      <td>0</td>\n",
              "      <td>0</td>\n",
              "      <td>BENIGN</td>\n",
              "    </tr>\n",
              "    <tr>\n",
              "      <th>4</th>\n",
              "      <td>53</td>\n",
              "      <td>269</td>\n",
              "      <td>2</td>\n",
              "      <td>2</td>\n",
              "      <td>102</td>\n",
              "      <td>322</td>\n",
              "      <td>51</td>\n",
              "      <td>51</td>\n",
              "      <td>51.000000</td>\n",
              "      <td>0.000000</td>\n",
              "      <td>...</td>\n",
              "      <td>32</td>\n",
              "      <td>0.000</td>\n",
              "      <td>0.000000e+00</td>\n",
              "      <td>0</td>\n",
              "      <td>0</td>\n",
              "      <td>0.0</td>\n",
              "      <td>0.000000e+00</td>\n",
              "      <td>0</td>\n",
              "      <td>0</td>\n",
              "      <td>BENIGN</td>\n",
              "    </tr>\n",
              "  </tbody>\n",
              "</table>\n",
              "<p>5 rows × 79 columns</p>\n",
              "</div>\n",
              "      <button class=\"colab-df-convert\" onclick=\"convertToInteractive('df-0ba16ada-fde8-47c9-87c3-3bc443b50b5d')\"\n",
              "              title=\"Convert this dataframe to an interactive table.\"\n",
              "              style=\"display:none;\">\n",
              "        \n",
              "  <svg xmlns=\"http://www.w3.org/2000/svg\" height=\"24px\"viewBox=\"0 0 24 24\"\n",
              "       width=\"24px\">\n",
              "    <path d=\"M0 0h24v24H0V0z\" fill=\"none\"/>\n",
              "    <path d=\"M18.56 5.44l.94 2.06.94-2.06 2.06-.94-2.06-.94-.94-2.06-.94 2.06-2.06.94zm-11 1L8.5 8.5l.94-2.06 2.06-.94-2.06-.94L8.5 2.5l-.94 2.06-2.06.94zm10 10l.94 2.06.94-2.06 2.06-.94-2.06-.94-.94-2.06-.94 2.06-2.06.94z\"/><path d=\"M17.41 7.96l-1.37-1.37c-.4-.4-.92-.59-1.43-.59-.52 0-1.04.2-1.43.59L10.3 9.45l-7.72 7.72c-.78.78-.78 2.05 0 2.83L4 21.41c.39.39.9.59 1.41.59.51 0 1.02-.2 1.41-.59l7.78-7.78 2.81-2.81c.8-.78.8-2.07 0-2.86zM5.41 20L4 18.59l7.72-7.72 1.47 1.35L5.41 20z\"/>\n",
              "  </svg>\n",
              "      </button>\n",
              "      \n",
              "  <style>\n",
              "    .colab-df-container {\n",
              "      display:flex;\n",
              "      flex-wrap:wrap;\n",
              "      gap: 12px;\n",
              "    }\n",
              "\n",
              "    .colab-df-convert {\n",
              "      background-color: #E8F0FE;\n",
              "      border: none;\n",
              "      border-radius: 50%;\n",
              "      cursor: pointer;\n",
              "      display: none;\n",
              "      fill: #1967D2;\n",
              "      height: 32px;\n",
              "      padding: 0 0 0 0;\n",
              "      width: 32px;\n",
              "    }\n",
              "\n",
              "    .colab-df-convert:hover {\n",
              "      background-color: #E2EBFA;\n",
              "      box-shadow: 0px 1px 2px rgba(60, 64, 67, 0.3), 0px 1px 3px 1px rgba(60, 64, 67, 0.15);\n",
              "      fill: #174EA6;\n",
              "    }\n",
              "\n",
              "    [theme=dark] .colab-df-convert {\n",
              "      background-color: #3B4455;\n",
              "      fill: #D2E3FC;\n",
              "    }\n",
              "\n",
              "    [theme=dark] .colab-df-convert:hover {\n",
              "      background-color: #434B5C;\n",
              "      box-shadow: 0px 1px 3px 1px rgba(0, 0, 0, 0.15);\n",
              "      filter: drop-shadow(0px 1px 2px rgba(0, 0, 0, 0.3));\n",
              "      fill: #FFFFFF;\n",
              "    }\n",
              "  </style>\n",
              "\n",
              "      <script>\n",
              "        const buttonEl =\n",
              "          document.querySelector('#df-0ba16ada-fde8-47c9-87c3-3bc443b50b5d button.colab-df-convert');\n",
              "        buttonEl.style.display =\n",
              "          google.colab.kernel.accessAllowed ? 'block' : 'none';\n",
              "\n",
              "        async function convertToInteractive(key) {\n",
              "          const element = document.querySelector('#df-0ba16ada-fde8-47c9-87c3-3bc443b50b5d');\n",
              "          const dataTable =\n",
              "            await google.colab.kernel.invokeFunction('convertToInteractive',\n",
              "                                                     [key], {});\n",
              "          if (!dataTable) return;\n",
              "\n",
              "          const docLinkHtml = 'Like what you see? Visit the ' +\n",
              "            '<a target=\"_blank\" href=https://colab.research.google.com/notebooks/data_table.ipynb>data table notebook</a>'\n",
              "            + ' to learn more about interactive tables.';\n",
              "          element.innerHTML = '';\n",
              "          dataTable['output_type'] = 'display_data';\n",
              "          await google.colab.output.renderOutput(dataTable, element);\n",
              "          const docLink = document.createElement('div');\n",
              "          docLink.innerHTML = docLinkHtml;\n",
              "          element.appendChild(docLink);\n",
              "        }\n",
              "      </script>\n",
              "    </div>\n",
              "  </div>\n",
              "  "
            ]
          },
          "metadata": {},
          "execution_count": 6
        }
      ]
    },
    {
      "cell_type": "code",
      "source": [
        "df_main.info()"
      ],
      "metadata": {
        "colab": {
          "base_uri": "https://localhost:8080/"
        },
        "id": "ktvnOHCij99b",
        "outputId": "84825211-74b9-48e9-ae36-50ee6e1ba414"
      },
      "execution_count": null,
      "outputs": [
        {
          "output_type": "stream",
          "name": "stdout",
          "text": [
            "<class 'pandas.core.frame.DataFrame'>\n",
            "RangeIndex: 2830743 entries, 0 to 2830742\n",
            "Data columns (total 79 columns):\n",
            " #   Column                        Dtype  \n",
            "---  ------                        -----  \n",
            " 0    Destination Port             int64  \n",
            " 1    Flow Duration                int64  \n",
            " 2    Total Fwd Packets            int64  \n",
            " 3    Total Backward Packets       int64  \n",
            " 4   Total Length of Fwd Packets   int64  \n",
            " 5    Total Length of Bwd Packets  int64  \n",
            " 6    Fwd Packet Length Max        int64  \n",
            " 7    Fwd Packet Length Min        int64  \n",
            " 8    Fwd Packet Length Mean       float64\n",
            " 9    Fwd Packet Length Std        float64\n",
            " 10  Bwd Packet Length Max         int64  \n",
            " 11   Bwd Packet Length Min        int64  \n",
            " 12   Bwd Packet Length Mean       float64\n",
            " 13   Bwd Packet Length Std        float64\n",
            " 14  Flow Bytes/s                  float64\n",
            " 15   Flow Packets/s               float64\n",
            " 16   Flow IAT Mean                float64\n",
            " 17   Flow IAT Std                 float64\n",
            " 18   Flow IAT Max                 int64  \n",
            " 19   Flow IAT Min                 int64  \n",
            " 20  Fwd IAT Total                 int64  \n",
            " 21   Fwd IAT Mean                 float64\n",
            " 22   Fwd IAT Std                  float64\n",
            " 23   Fwd IAT Max                  int64  \n",
            " 24   Fwd IAT Min                  int64  \n",
            " 25  Bwd IAT Total                 int64  \n",
            " 26   Bwd IAT Mean                 float64\n",
            " 27   Bwd IAT Std                  float64\n",
            " 28   Bwd IAT Max                  int64  \n",
            " 29   Bwd IAT Min                  int64  \n",
            " 30  Fwd PSH Flags                 int64  \n",
            " 31   Bwd PSH Flags                int64  \n",
            " 32   Fwd URG Flags                int64  \n",
            " 33   Bwd URG Flags                int64  \n",
            " 34   Fwd Header Length            int64  \n",
            " 35   Bwd Header Length            int64  \n",
            " 36  Fwd Packets/s                 float64\n",
            " 37   Bwd Packets/s                float64\n",
            " 38   Min Packet Length            int64  \n",
            " 39   Max Packet Length            int64  \n",
            " 40   Packet Length Mean           float64\n",
            " 41   Packet Length Std            float64\n",
            " 42   Packet Length Variance       float64\n",
            " 43  FIN Flag Count                int64  \n",
            " 44   SYN Flag Count               int64  \n",
            " 45   RST Flag Count               int64  \n",
            " 46   PSH Flag Count               int64  \n",
            " 47   ACK Flag Count               int64  \n",
            " 48   URG Flag Count               int64  \n",
            " 49   CWE Flag Count               int64  \n",
            " 50   ECE Flag Count               int64  \n",
            " 51   Down/Up Ratio                int64  \n",
            " 52   Average Packet Size          float64\n",
            " 53   Avg Fwd Segment Size         float64\n",
            " 54   Avg Bwd Segment Size         float64\n",
            " 55   Fwd Header Length.1          int64  \n",
            " 56  Fwd Avg Bytes/Bulk            int64  \n",
            " 57   Fwd Avg Packets/Bulk         int64  \n",
            " 58   Fwd Avg Bulk Rate            int64  \n",
            " 59   Bwd Avg Bytes/Bulk           int64  \n",
            " 60   Bwd Avg Packets/Bulk         int64  \n",
            " 61  Bwd Avg Bulk Rate             int64  \n",
            " 62  Subflow Fwd Packets           int64  \n",
            " 63   Subflow Fwd Bytes            int64  \n",
            " 64   Subflow Bwd Packets          int64  \n",
            " 65   Subflow Bwd Bytes            int64  \n",
            " 66  Init_Win_bytes_forward        int64  \n",
            " 67   Init_Win_bytes_backward      int64  \n",
            " 68   act_data_pkt_fwd             int64  \n",
            " 69   min_seg_size_forward         int64  \n",
            " 70  Active Mean                   float64\n",
            " 71   Active Std                   float64\n",
            " 72   Active Max                   int64  \n",
            " 73   Active Min                   int64  \n",
            " 74  Idle Mean                     float64\n",
            " 75   Idle Std                     float64\n",
            " 76   Idle Max                     int64  \n",
            " 77   Idle Min                     int64  \n",
            " 78   Label                        object \n",
            "dtypes: float64(24), int64(54), object(1)\n",
            "memory usage: 1.7+ GB\n"
          ]
        }
      ]
    },
    {
      "cell_type": "code",
      "source": [
        "df_main.iloc[:,-1].value_counts()"
      ],
      "metadata": {
        "colab": {
          "base_uri": "https://localhost:8080/"
        },
        "id": "y-ADmT2wkUWC",
        "outputId": "b9cde4a6-6979-486c-bbce-015eff5c875b"
      },
      "execution_count": null,
      "outputs": [
        {
          "output_type": "execute_result",
          "data": {
            "text/plain": [
              "BENIGN                        2273097\n",
              "DoS Hulk                       231073\n",
              "PortScan                       158930\n",
              "DDoS                           128027\n",
              "DoS GoldenEye                   10293\n",
              "FTP-Patator                      7938\n",
              "SSH-Patator                      5897\n",
              "DoS slowloris                    5796\n",
              "DoS Slowhttptest                 5499\n",
              "Bot                              1966\n",
              "Web Attack � Brute Force         1507\n",
              "Web Attack � XSS                  652\n",
              "Infiltration                       36\n",
              "Web Attack � Sql Injection         21\n",
              "Heartbleed                         11\n",
              "Name:  Label, dtype: int64"
            ]
          },
          "metadata": {},
          "execution_count": 8
        }
      ]
    },
    {
      "cell_type": "markdown",
      "source": [
        "Dựa vào Paper ta có thể thấy ở đây Web Attack được đưa vào thành 1 nhóm chung. Nên vì thế nhãn output của chúng ta sẽ gồm 12 loại:\n",
        "1. Benign\n",
        "2. DoS\n",
        "    - Hulk\n",
        "    - Golden Eye\n",
        "    - DDoS\n",
        "    - Slowhttptest\n",
        "    - Slowloris\n",
        "3. Port Scan\n",
        "4. Bot `Minor`\n",
        "5. Infilteration `Minor`\n",
        "6. FTP-Pataor\n",
        "7. SSH-Pataor\n",
        "8. Heartbleed `Minor`\n",
        "9. Web Attacks"
      ],
      "metadata": {
        "id": "bmQskVo5vi79"
      }
    },
    {
      "cell_type": "code",
      "source": [
        "# Vì columns name có khoảng trắng ở đầu nên ta tiến hành loại bỏ đi\n",
        "df_main.rename(columns=lambda x: x.strip(), inplace=True)"
      ],
      "metadata": {
        "id": "KlUB3dhF0Be6"
      },
      "execution_count": null,
      "outputs": []
    },
    {
      "cell_type": "code",
      "source": [
        "# Merge Web Attacks catagories vào thành 1 loại\n",
        "# df_main.mask('Web Attack' in df_main['Label'], other='Web Attack', inplace=True)\n",
        "df_main['Label'].replace(['Web Attack � Brute Force', 'Web Attack � XSS', 'Web Attack � Sql Injection'], 'Web Attack', inplace=True)"
      ],
      "metadata": {
        "id": "QDEgRl0b2vDH"
      },
      "execution_count": null,
      "outputs": []
    },
    {
      "cell_type": "code",
      "source": [
        "df_main.iloc[:,-1].value_counts()"
      ],
      "metadata": {
        "colab": {
          "base_uri": "https://localhost:8080/"
        },
        "id": "FeeJIG6My7ea",
        "outputId": "411dade9-f319-45b9-aa2e-e982466d4f52"
      },
      "execution_count": null,
      "outputs": [
        {
          "output_type": "execute_result",
          "data": {
            "text/plain": [
              "BENIGN              2273097\n",
              "DoS Hulk             231073\n",
              "PortScan             158930\n",
              "DDoS                 128027\n",
              "DoS GoldenEye         10293\n",
              "FTP-Patator            7938\n",
              "SSH-Patator            5897\n",
              "DoS slowloris          5796\n",
              "DoS Slowhttptest       5499\n",
              "Web Attack             2180\n",
              "Bot                    1966\n",
              "Infiltration             36\n",
              "Heartbleed               11\n",
              "Name: Label, dtype: int64"
            ]
          },
          "metadata": {},
          "execution_count": 11
        }
      ]
    },
    {
      "cell_type": "code",
      "source": [
        "df_main.shape"
      ],
      "metadata": {
        "colab": {
          "base_uri": "https://localhost:8080/"
        },
        "id": "yzTmPr-O9EvB",
        "outputId": "6605e0a5-8178-4975-a84f-9874ffaf7a28"
      },
      "execution_count": null,
      "outputs": [
        {
          "output_type": "execute_result",
          "data": {
            "text/plain": [
              "(2830743, 79)"
            ]
          },
          "metadata": {},
          "execution_count": 12
        }
      ]
    },
    {
      "cell_type": "markdown",
      "source": [
        "## Clean data"
      ],
      "metadata": {
        "id": "pfsXKULnOzso"
      }
    },
    {
      "cell_type": "code",
      "source": [
        "df_main.drop(columns=df_main.columns[0], axis=1, inplace=True) # drop first columns (port columns)"
      ],
      "metadata": {
        "id": "B1t8f4o5-r0t"
      },
      "execution_count": null,
      "outputs": []
    },
    {
      "cell_type": "code",
      "source": [
        "# Replace NaN values and Inf valueddddddds\n",
        "df_main['Flow Bytes/s'].fillna(0, inplace=True)\n",
        "df_main = df_main[np.isfinite(df_main.iloc[:,0:-1]).all(1)]"
      ],
      "metadata": {
        "id": "kcLHqqu7QSzm"
      },
      "execution_count": null,
      "outputs": []
    },
    {
      "cell_type": "code",
      "source": [
        "# Convert to float64\n",
        "df_main[df_main.select_dtypes(np.int64).columns] = df_main.select_dtypes(np.int64).astype(np.float64)"
      ],
      "metadata": {
        "id": "Qbno_EiGSFmx"
      },
      "execution_count": null,
      "outputs": []
    },
    {
      "cell_type": "markdown",
      "source": [
        "## SMOTE data"
      ],
      "metadata": {
        "id": "SVKuWS3V23IU"
      }
    },
    {
      "cell_type": "code",
      "source": [
        "!pip install imbalanced-learn"
      ],
      "metadata": {
        "id": "2YugR7Zy3IUF",
        "colab": {
          "base_uri": "https://localhost:8080/"
        },
        "outputId": "03b4fcc0-7fca-4344-e314-575e44807ee0"
      },
      "execution_count": null,
      "outputs": [
        {
          "output_type": "stream",
          "name": "stdout",
          "text": [
            "Looking in indexes: https://pypi.org/simple, https://us-python.pkg.dev/colab-wheels/public/simple/\n",
            "Requirement already satisfied: imbalanced-learn in /usr/local/lib/python3.10/dist-packages (0.10.1)\n",
            "Requirement already satisfied: numpy>=1.17.3 in /usr/local/lib/python3.10/dist-packages (from imbalanced-learn) (1.22.4)\n",
            "Requirement already satisfied: scipy>=1.3.2 in /usr/local/lib/python3.10/dist-packages (from imbalanced-learn) (1.10.1)\n",
            "Requirement already satisfied: scikit-learn>=1.0.2 in /usr/local/lib/python3.10/dist-packages (from imbalanced-learn) (1.2.2)\n",
            "Requirement already satisfied: joblib>=1.1.1 in /usr/local/lib/python3.10/dist-packages (from imbalanced-learn) (1.2.0)\n",
            "Requirement already satisfied: threadpoolctl>=2.0.0 in /usr/local/lib/python3.10/dist-packages (from imbalanced-learn) (3.1.0)\n"
          ]
        }
      ]
    },
    {
      "cell_type": "code",
      "source": [
        "from imblearn.over_sampling import SMOTE\n",
        "from imblearn.under_sampling import RandomUnderSampler\n",
        "from imblearn.pipeline import Pipeline"
      ],
      "metadata": {
        "id": "kpmf1p6R252R"
      },
      "execution_count": null,
      "outputs": []
    },
    {
      "cell_type": "code",
      "source": [
        "# only oversampling\n",
        "def oversample_data(x, y, oversample_fraction):\n",
        "    oversample = SMOTE(sampling_strategy=oversample_fraction)\n",
        "    return oversample.fit_resample(x, y)"
      ],
      "metadata": {
        "id": "wGLAI63Z27vj"
      },
      "execution_count": null,
      "outputs": []
    },
    {
      "cell_type": "code",
      "source": [
        "# oversample and undersample\n",
        "def over_under_sample(x, y, upper_sample, under_sample):\n",
        "    over = SMOTE(sampling_strategy=upper_sample)\n",
        "    under = RandomUnderSampler(sampling_strategy=under_sample)\n",
        "    steps = [('o', over), ('u', under)]\n",
        "    pipeline = Pipeline(steps=steps)\n",
        "    return pipeline.fit_resample(x, y)"
      ],
      "metadata": {
        "id": "8krVKtWM3Ahd"
      },
      "execution_count": null,
      "outputs": []
    },
    {
      "cell_type": "markdown",
      "source": [
        "## Preprocess Data"
      ],
      "metadata": {
        "id": "y4I1-GIzkNT2"
      }
    },
    {
      "cell_type": "code",
      "source": [
        "# Maping data into categories\n",
        "df_label = df_main['Label'].map({\n",
        "    'BENIGN': 0,\n",
        "    'DoS Hulk': 1,\n",
        "    'DoS GoldenEye': 2,\n",
        "    'DoS slowloris': 3,\n",
        "    'DoS Slowhttptest': 4,\n",
        "    'DDoS': 5,\n",
        "    'PortScan': 6,\n",
        "    'FTP-Patator': 7,\n",
        "    'SSH-Patator': 8,\n",
        "    'Web Attack': 9,\n",
        "    'Bot': 10,\n",
        "    'Infiltration': 11,\n",
        "    'Heartbleed': 12,\n",
        "})\n",
        "df_main.drop('Label', axis=1, inplace=True)"
      ],
      "metadata": {
        "id": "XGS4v-SxBia4"
      },
      "execution_count": null,
      "outputs": []
    },
    {
      "cell_type": "code",
      "source": [
        "from sklearn.preprocessing import MinMaxScaler\n",
        "scaler = MinMaxScaler()\n",
        "df_main = scaler.fit_transform(df_main)"
      ],
      "metadata": {
        "id": "GjfdUClDkPo9"
      },
      "execution_count": null,
      "outputs": []
    },
    {
      "cell_type": "code",
      "source": [
        "df_label.value_counts()"
      ],
      "metadata": {
        "colab": {
          "base_uri": "https://localhost:8080/"
        },
        "id": "hDyWtVWaeu4i",
        "outputId": "64d2f4a4-942a-42da-9e92-372b7d6ea44d"
      },
      "execution_count": null,
      "outputs": [
        {
          "output_type": "execute_result",
          "data": {
            "text/plain": [
              "0     2271320\n",
              "1      230124\n",
              "6      158804\n",
              "5      128025\n",
              "2       10293\n",
              "7        7935\n",
              "8        5897\n",
              "3        5796\n",
              "4        5499\n",
              "9        2180\n",
              "10       1956\n",
              "11         36\n",
              "12         11\n",
              "Name: Label, dtype: int64"
            ]
          },
          "metadata": {},
          "execution_count": 22
        }
      ]
    },
    {
      "cell_type": "markdown",
      "source": [
        "## Split Train and Test to CSV"
      ],
      "metadata": {
        "id": "qdWcZpyQRUor"
      }
    },
    {
      "cell_type": "code",
      "source": [
        "train, test = train_test_split(df_main, test_size=0.4, random_state=20, shuffle=True)"
      ],
      "metadata": {
        "id": "0JGKRNGHRf1Q"
      },
      "execution_count": null,
      "outputs": []
    },
    {
      "cell_type": "code",
      "source": [
        "train.to_csv('train_data.csv', index=False)\n",
        "test.to_csv('test_data.csv', index=False)"
      ],
      "metadata": {
        "id": "af_dcxd_R4-k"
      },
      "execution_count": null,
      "outputs": []
    },
    {
      "cell_type": "code",
      "source": [
        "del train, test\n",
        "gc.collect()"
      ],
      "metadata": {
        "colab": {
          "base_uri": "https://localhost:8080/"
        },
        "id": "eldQlnZzTPGm",
        "outputId": "54843e1a-abd8-4c0e-968b-79943230da4a"
      },
      "execution_count": null,
      "outputs": [
        {
          "output_type": "execute_result",
          "data": {
            "text/plain": [
              "712"
            ]
          },
          "metadata": {},
          "execution_count": 10
        }
      ]
    },
    {
      "cell_type": "code",
      "source": [
        "train.iloc[:, -1:].value_counts()"
      ],
      "metadata": {
        "colab": {
          "base_uri": "https://localhost:8080/"
        },
        "id": "y0v5ZGIEUOIb",
        "outputId": "10b0bafe-de34-4fdd-ad6f-3e5952efed0a"
      },
      "execution_count": null,
      "outputs": [
        {
          "output_type": "execute_result",
          "data": {
            "text/plain": [
              "Label           \n",
              "BENIGN              1361979\n",
              "DoS Hulk             138547\n",
              "PortScan              95405\n",
              "DDoS                  76909\n",
              "DoS GoldenEye          6207\n",
              "FTP-Patator            4744\n",
              "SSH-Patator            3583\n",
              "DoS slowloris          3498\n",
              "DoS Slowhttptest       3329\n",
              "Web Attack             1326\n",
              "Bot                    1167\n",
              "Infiltration             25\n",
              "Heartbleed                6\n",
              "dtype: int64"
            ]
          },
          "metadata": {},
          "execution_count": 13
        }
      ]
    },
    {
      "cell_type": "markdown",
      "source": [
        "## Separate rare class and copy to csv"
      ],
      "metadata": {
        "id": "HSR3hnUtVBxm"
      }
    },
    {
      "cell_type": "code",
      "source": [
        "df_hb_rare = train[train['Label'] == 'Heartbleed']\n",
        "df_if_rare = train[train['Label'] == 'Infiltration']\n",
        "df_bot_rare = train[train['Label'] == 'Bot']\n",
        "df_web_rare = train[train['Label'] == 'Web Attack']"
      ],
      "metadata": {
        "id": "sdkkMo_GVIDN"
      },
      "execution_count": null,
      "outputs": []
    },
    {
      "cell_type": "code",
      "source": [
        "df_hb_rare"
      ],
      "metadata": {
        "colab": {
          "base_uri": "https://localhost:8080/",
          "height": 383
        },
        "id": "_GarSiR9Wp9V",
        "outputId": "1a8e3df9-8429-4f65-dcbe-047adf4d8e16"
      },
      "execution_count": null,
      "outputs": [
        {
          "output_type": "execute_result",
          "data": {
            "text/plain": [
              "         Flow Duration  Total Fwd Packets  Total Backward Packets  \\\n",
              "1572957      119302728               2685                    1729   \n",
              "1573652       24719667                590                     436   \n",
              "1573363      119259012               2801                    2069   \n",
              "1573092      119260295               2791                    2114   \n",
              "1573036      119261118               2794                    2130   \n",
              "1573640      119296592               2797                    2006   \n",
              "\n",
              "         Total Length of Fwd Packets  Total Length of Bwd Packets  \\\n",
              "1572957                         8299                      7556917   \n",
              "1573652                         7442                      1636683   \n",
              "1573363                        12264                      7879536   \n",
              "1573092                        13712                      7878088   \n",
              "1573036                        12264                      7879536   \n",
              "1573640                        13712                      7878088   \n",
              "\n",
              "         Fwd Packet Length Max  Fwd Packet Length Min  Fwd Packet Length Mean  \\\n",
              "1572957                    517                      0                3.090875   \n",
              "1573652                   5792                      0               12.613559   \n",
              "1573363                   4344                      0                4.378436   \n",
              "1573092                   5792                      0                4.912934   \n",
              "1573036                   4344                      0                4.389406   \n",
              "1573640                   5792                      0                4.902395   \n",
              "\n",
              "         Fwd Packet Length Std  Bwd Packet Length Max  ...  \\\n",
              "1572957              16.858421                  17376  ...   \n",
              "1573652             238.708658                  13032  ...   \n",
              "1573363              83.107845                  15928  ...   \n",
              "1573092             110.396187                  13032  ...   \n",
              "1573036              83.211635                  13032  ...   \n",
              "1573640             110.277907                  13032  ...   \n",
              "\n",
              "         min_seg_size_forward  Active Mean  Active Std  Active Max  \\\n",
              "1572957                    32       2217.0         0.0        2217   \n",
              "1573652                    32          0.0         0.0           0   \n",
              "1573363                    32          0.0         0.0           0   \n",
              "1573092                    32          0.0         0.0           0   \n",
              "1573036                    32          0.0         0.0           0   \n",
              "1573640                    32          0.0         0.0           0   \n",
              "\n",
              "         Active Min  Idle Mean  Idle Std  Idle Max  Idle Min       Label  \n",
              "1572957        2217  5024984.0       0.0   5024984   5024984  Heartbleed  \n",
              "1573652           0        0.0       0.0         0         0  Heartbleed  \n",
              "1573363           0        0.0       0.0         0         0  Heartbleed  \n",
              "1573092           0        0.0       0.0         0         0  Heartbleed  \n",
              "1573036           0        0.0       0.0         0         0  Heartbleed  \n",
              "1573640           0        0.0       0.0         0         0  Heartbleed  \n",
              "\n",
              "[6 rows x 78 columns]"
            ],
            "text/html": [
              "\n",
              "  <div id=\"df-13991031-a0a9-4ea6-a00e-4bf83800370c\">\n",
              "    <div class=\"colab-df-container\">\n",
              "      <div>\n",
              "<style scoped>\n",
              "    .dataframe tbody tr th:only-of-type {\n",
              "        vertical-align: middle;\n",
              "    }\n",
              "\n",
              "    .dataframe tbody tr th {\n",
              "        vertical-align: top;\n",
              "    }\n",
              "\n",
              "    .dataframe thead th {\n",
              "        text-align: right;\n",
              "    }\n",
              "</style>\n",
              "<table border=\"1\" class=\"dataframe\">\n",
              "  <thead>\n",
              "    <tr style=\"text-align: right;\">\n",
              "      <th></th>\n",
              "      <th>Flow Duration</th>\n",
              "      <th>Total Fwd Packets</th>\n",
              "      <th>Total Backward Packets</th>\n",
              "      <th>Total Length of Fwd Packets</th>\n",
              "      <th>Total Length of Bwd Packets</th>\n",
              "      <th>Fwd Packet Length Max</th>\n",
              "      <th>Fwd Packet Length Min</th>\n",
              "      <th>Fwd Packet Length Mean</th>\n",
              "      <th>Fwd Packet Length Std</th>\n",
              "      <th>Bwd Packet Length Max</th>\n",
              "      <th>...</th>\n",
              "      <th>min_seg_size_forward</th>\n",
              "      <th>Active Mean</th>\n",
              "      <th>Active Std</th>\n",
              "      <th>Active Max</th>\n",
              "      <th>Active Min</th>\n",
              "      <th>Idle Mean</th>\n",
              "      <th>Idle Std</th>\n",
              "      <th>Idle Max</th>\n",
              "      <th>Idle Min</th>\n",
              "      <th>Label</th>\n",
              "    </tr>\n",
              "  </thead>\n",
              "  <tbody>\n",
              "    <tr>\n",
              "      <th>1572957</th>\n",
              "      <td>119302728</td>\n",
              "      <td>2685</td>\n",
              "      <td>1729</td>\n",
              "      <td>8299</td>\n",
              "      <td>7556917</td>\n",
              "      <td>517</td>\n",
              "      <td>0</td>\n",
              "      <td>3.090875</td>\n",
              "      <td>16.858421</td>\n",
              "      <td>17376</td>\n",
              "      <td>...</td>\n",
              "      <td>32</td>\n",
              "      <td>2217.0</td>\n",
              "      <td>0.0</td>\n",
              "      <td>2217</td>\n",
              "      <td>2217</td>\n",
              "      <td>5024984.0</td>\n",
              "      <td>0.0</td>\n",
              "      <td>5024984</td>\n",
              "      <td>5024984</td>\n",
              "      <td>Heartbleed</td>\n",
              "    </tr>\n",
              "    <tr>\n",
              "      <th>1573652</th>\n",
              "      <td>24719667</td>\n",
              "      <td>590</td>\n",
              "      <td>436</td>\n",
              "      <td>7442</td>\n",
              "      <td>1636683</td>\n",
              "      <td>5792</td>\n",
              "      <td>0</td>\n",
              "      <td>12.613559</td>\n",
              "      <td>238.708658</td>\n",
              "      <td>13032</td>\n",
              "      <td>...</td>\n",
              "      <td>32</td>\n",
              "      <td>0.0</td>\n",
              "      <td>0.0</td>\n",
              "      <td>0</td>\n",
              "      <td>0</td>\n",
              "      <td>0.0</td>\n",
              "      <td>0.0</td>\n",
              "      <td>0</td>\n",
              "      <td>0</td>\n",
              "      <td>Heartbleed</td>\n",
              "    </tr>\n",
              "    <tr>\n",
              "      <th>1573363</th>\n",
              "      <td>119259012</td>\n",
              "      <td>2801</td>\n",
              "      <td>2069</td>\n",
              "      <td>12264</td>\n",
              "      <td>7879536</td>\n",
              "      <td>4344</td>\n",
              "      <td>0</td>\n",
              "      <td>4.378436</td>\n",
              "      <td>83.107845</td>\n",
              "      <td>15928</td>\n",
              "      <td>...</td>\n",
              "      <td>32</td>\n",
              "      <td>0.0</td>\n",
              "      <td>0.0</td>\n",
              "      <td>0</td>\n",
              "      <td>0</td>\n",
              "      <td>0.0</td>\n",
              "      <td>0.0</td>\n",
              "      <td>0</td>\n",
              "      <td>0</td>\n",
              "      <td>Heartbleed</td>\n",
              "    </tr>\n",
              "    <tr>\n",
              "      <th>1573092</th>\n",
              "      <td>119260295</td>\n",
              "      <td>2791</td>\n",
              "      <td>2114</td>\n",
              "      <td>13712</td>\n",
              "      <td>7878088</td>\n",
              "      <td>5792</td>\n",
              "      <td>0</td>\n",
              "      <td>4.912934</td>\n",
              "      <td>110.396187</td>\n",
              "      <td>13032</td>\n",
              "      <td>...</td>\n",
              "      <td>32</td>\n",
              "      <td>0.0</td>\n",
              "      <td>0.0</td>\n",
              "      <td>0</td>\n",
              "      <td>0</td>\n",
              "      <td>0.0</td>\n",
              "      <td>0.0</td>\n",
              "      <td>0</td>\n",
              "      <td>0</td>\n",
              "      <td>Heartbleed</td>\n",
              "    </tr>\n",
              "    <tr>\n",
              "      <th>1573036</th>\n",
              "      <td>119261118</td>\n",
              "      <td>2794</td>\n",
              "      <td>2130</td>\n",
              "      <td>12264</td>\n",
              "      <td>7879536</td>\n",
              "      <td>4344</td>\n",
              "      <td>0</td>\n",
              "      <td>4.389406</td>\n",
              "      <td>83.211635</td>\n",
              "      <td>13032</td>\n",
              "      <td>...</td>\n",
              "      <td>32</td>\n",
              "      <td>0.0</td>\n",
              "      <td>0.0</td>\n",
              "      <td>0</td>\n",
              "      <td>0</td>\n",
              "      <td>0.0</td>\n",
              "      <td>0.0</td>\n",
              "      <td>0</td>\n",
              "      <td>0</td>\n",
              "      <td>Heartbleed</td>\n",
              "    </tr>\n",
              "    <tr>\n",
              "      <th>1573640</th>\n",
              "      <td>119296592</td>\n",
              "      <td>2797</td>\n",
              "      <td>2006</td>\n",
              "      <td>13712</td>\n",
              "      <td>7878088</td>\n",
              "      <td>5792</td>\n",
              "      <td>0</td>\n",
              "      <td>4.902395</td>\n",
              "      <td>110.277907</td>\n",
              "      <td>13032</td>\n",
              "      <td>...</td>\n",
              "      <td>32</td>\n",
              "      <td>0.0</td>\n",
              "      <td>0.0</td>\n",
              "      <td>0</td>\n",
              "      <td>0</td>\n",
              "      <td>0.0</td>\n",
              "      <td>0.0</td>\n",
              "      <td>0</td>\n",
              "      <td>0</td>\n",
              "      <td>Heartbleed</td>\n",
              "    </tr>\n",
              "  </tbody>\n",
              "</table>\n",
              "<p>6 rows × 78 columns</p>\n",
              "</div>\n",
              "      <button class=\"colab-df-convert\" onclick=\"convertToInteractive('df-13991031-a0a9-4ea6-a00e-4bf83800370c')\"\n",
              "              title=\"Convert this dataframe to an interactive table.\"\n",
              "              style=\"display:none;\">\n",
              "        \n",
              "  <svg xmlns=\"http://www.w3.org/2000/svg\" height=\"24px\"viewBox=\"0 0 24 24\"\n",
              "       width=\"24px\">\n",
              "    <path d=\"M0 0h24v24H0V0z\" fill=\"none\"/>\n",
              "    <path d=\"M18.56 5.44l.94 2.06.94-2.06 2.06-.94-2.06-.94-.94-2.06-.94 2.06-2.06.94zm-11 1L8.5 8.5l.94-2.06 2.06-.94-2.06-.94L8.5 2.5l-.94 2.06-2.06.94zm10 10l.94 2.06.94-2.06 2.06-.94-2.06-.94-.94-2.06-.94 2.06-2.06.94z\"/><path d=\"M17.41 7.96l-1.37-1.37c-.4-.4-.92-.59-1.43-.59-.52 0-1.04.2-1.43.59L10.3 9.45l-7.72 7.72c-.78.78-.78 2.05 0 2.83L4 21.41c.39.39.9.59 1.41.59.51 0 1.02-.2 1.41-.59l7.78-7.78 2.81-2.81c.8-.78.8-2.07 0-2.86zM5.41 20L4 18.59l7.72-7.72 1.47 1.35L5.41 20z\"/>\n",
              "  </svg>\n",
              "      </button>\n",
              "      \n",
              "  <style>\n",
              "    .colab-df-container {\n",
              "      display:flex;\n",
              "      flex-wrap:wrap;\n",
              "      gap: 12px;\n",
              "    }\n",
              "\n",
              "    .colab-df-convert {\n",
              "      background-color: #E8F0FE;\n",
              "      border: none;\n",
              "      border-radius: 50%;\n",
              "      cursor: pointer;\n",
              "      display: none;\n",
              "      fill: #1967D2;\n",
              "      height: 32px;\n",
              "      padding: 0 0 0 0;\n",
              "      width: 32px;\n",
              "    }\n",
              "\n",
              "    .colab-df-convert:hover {\n",
              "      background-color: #E2EBFA;\n",
              "      box-shadow: 0px 1px 2px rgba(60, 64, 67, 0.3), 0px 1px 3px 1px rgba(60, 64, 67, 0.15);\n",
              "      fill: #174EA6;\n",
              "    }\n",
              "\n",
              "    [theme=dark] .colab-df-convert {\n",
              "      background-color: #3B4455;\n",
              "      fill: #D2E3FC;\n",
              "    }\n",
              "\n",
              "    [theme=dark] .colab-df-convert:hover {\n",
              "      background-color: #434B5C;\n",
              "      box-shadow: 0px 1px 3px 1px rgba(0, 0, 0, 0.15);\n",
              "      filter: drop-shadow(0px 1px 2px rgba(0, 0, 0, 0.3));\n",
              "      fill: #FFFFFF;\n",
              "    }\n",
              "  </style>\n",
              "\n",
              "      <script>\n",
              "        const buttonEl =\n",
              "          document.querySelector('#df-13991031-a0a9-4ea6-a00e-4bf83800370c button.colab-df-convert');\n",
              "        buttonEl.style.display =\n",
              "          google.colab.kernel.accessAllowed ? 'block' : 'none';\n",
              "\n",
              "        async function convertToInteractive(key) {\n",
              "          const element = document.querySelector('#df-13991031-a0a9-4ea6-a00e-4bf83800370c');\n",
              "          const dataTable =\n",
              "            await google.colab.kernel.invokeFunction('convertToInteractive',\n",
              "                                                     [key], {});\n",
              "          if (!dataTable) return;\n",
              "\n",
              "          const docLinkHtml = 'Like what you see? Visit the ' +\n",
              "            '<a target=\"_blank\" href=https://colab.research.google.com/notebooks/data_table.ipynb>data table notebook</a>'\n",
              "            + ' to learn more about interactive tables.';\n",
              "          element.innerHTML = '';\n",
              "          dataTable['output_type'] = 'display_data';\n",
              "          await google.colab.output.renderOutput(dataTable, element);\n",
              "          const docLink = document.createElement('div');\n",
              "          docLink.innerHTML = docLinkHtml;\n",
              "          element.appendChild(docLink);\n",
              "        }\n",
              "      </script>\n",
              "    </div>\n",
              "  </div>\n",
              "  "
            ]
          },
          "metadata": {},
          "execution_count": 17
        }
      ]
    },
    {
      "cell_type": "markdown",
      "source": [
        "## RF - SMOTE\n",
        "Mô hình RF thông thường chưa GAN, sử dụng SMOTE"
      ],
      "metadata": {
        "id": "Tm9KLFHf_fj8"
      }
    },
    {
      "cell_type": "markdown",
      "source": [
        "### Trainning"
      ],
      "metadata": {
        "id": "y45y8VNoqomN"
      }
    },
    {
      "cell_type": "code",
      "source": [
        "# SPLIT DATA\n",
        "x_train, x_test, y_train, y_test = train_test_split(df_main, df_label, test_size=0.2, random_state=10)"
      ],
      "metadata": {
        "id": "x5Kbxk98EVWL"
      },
      "execution_count": null,
      "outputs": []
    },
    {
      "cell_type": "code",
      "source": [
        "y_train.value_counts()"
      ],
      "metadata": {
        "colab": {
          "base_uri": "https://localhost:8080/"
        },
        "id": "oO91UPCWyxRf",
        "outputId": "d2d9dfd3-5df2-4228-fe7e-63a60228fff7"
      },
      "execution_count": null,
      "outputs": [
        {
          "output_type": "execute_result",
          "data": {
            "text/plain": [
              "0     1817097\n",
              "1      184102\n",
              "6      126991\n",
              "5      102500\n",
              "2        8231\n",
              "7        6293\n",
              "8        4754\n",
              "3        4593\n",
              "4        4404\n",
              "9        1740\n",
              "10       1560\n",
              "11         29\n",
              "12          6\n",
              "Name: Label, dtype: int64"
            ]
          },
          "metadata": {},
          "execution_count": 26
        }
      ]
    },
    {
      "cell_type": "code",
      "source": [
        "# ONLY FOR SMOTE MODEL\n",
        "up_strategy = {12:10000, 11:10000, 10:10000}\n",
        "down_strategy = {0:1000000, 1:100000}\n",
        "x_train, y_train = over_under_sample(x_train, y_train, up_strategy, down_strategy)"
      ],
      "metadata": {
        "id": "aJuejJ84lKml"
      },
      "execution_count": null,
      "outputs": []
    },
    {
      "cell_type": "code",
      "source": [
        "# TRAIN DATA AFTER SMOTE\n",
        "y_train.value_counts()"
      ],
      "metadata": {
        "colab": {
          "base_uri": "https://localhost:8080/"
        },
        "id": "eyf_UADXbAxM",
        "outputId": "1479edab-d318-4305-961d-386f0c75ee37"
      },
      "execution_count": null,
      "outputs": [
        {
          "output_type": "execute_result",
          "data": {
            "text/plain": [
              "0     1000000\n",
              "6      126991\n",
              "5      102500\n",
              "1      100000\n",
              "10      10000\n",
              "11      10000\n",
              "12      10000\n",
              "2        8231\n",
              "7        6293\n",
              "8        4754\n",
              "3        4593\n",
              "4        4404\n",
              "9        1740\n",
              "Name: Label, dtype: int64"
            ]
          },
          "metadata": {},
          "execution_count": 28
        }
      ]
    },
    {
      "cell_type": "code",
      "source": [
        "clf = RandomForestClassifier(random_state = 10)\n",
        "clf.fit(x_train, y_train)"
      ],
      "metadata": {
        "colab": {
          "base_uri": "https://localhost:8080/",
          "height": 74
        },
        "id": "JNVL7BYXHaqS",
        "outputId": "6663b0af-7d31-4917-c905-5b96f5404689"
      },
      "execution_count": null,
      "outputs": [
        {
          "output_type": "execute_result",
          "data": {
            "text/plain": [
              "RandomForestClassifier(random_state=10)"
            ],
            "text/html": [
              "<style>#sk-container-id-1 {color: black;background-color: white;}#sk-container-id-1 pre{padding: 0;}#sk-container-id-1 div.sk-toggleable {background-color: white;}#sk-container-id-1 label.sk-toggleable__label {cursor: pointer;display: block;width: 100%;margin-bottom: 0;padding: 0.3em;box-sizing: border-box;text-align: center;}#sk-container-id-1 label.sk-toggleable__label-arrow:before {content: \"▸\";float: left;margin-right: 0.25em;color: #696969;}#sk-container-id-1 label.sk-toggleable__label-arrow:hover:before {color: black;}#sk-container-id-1 div.sk-estimator:hover label.sk-toggleable__label-arrow:before {color: black;}#sk-container-id-1 div.sk-toggleable__content {max-height: 0;max-width: 0;overflow: hidden;text-align: left;background-color: #f0f8ff;}#sk-container-id-1 div.sk-toggleable__content pre {margin: 0.2em;color: black;border-radius: 0.25em;background-color: #f0f8ff;}#sk-container-id-1 input.sk-toggleable__control:checked~div.sk-toggleable__content {max-height: 200px;max-width: 100%;overflow: auto;}#sk-container-id-1 input.sk-toggleable__control:checked~label.sk-toggleable__label-arrow:before {content: \"▾\";}#sk-container-id-1 div.sk-estimator input.sk-toggleable__control:checked~label.sk-toggleable__label {background-color: #d4ebff;}#sk-container-id-1 div.sk-label input.sk-toggleable__control:checked~label.sk-toggleable__label {background-color: #d4ebff;}#sk-container-id-1 input.sk-hidden--visually {border: 0;clip: rect(1px 1px 1px 1px);clip: rect(1px, 1px, 1px, 1px);height: 1px;margin: -1px;overflow: hidden;padding: 0;position: absolute;width: 1px;}#sk-container-id-1 div.sk-estimator {font-family: monospace;background-color: #f0f8ff;border: 1px dotted black;border-radius: 0.25em;box-sizing: border-box;margin-bottom: 0.5em;}#sk-container-id-1 div.sk-estimator:hover {background-color: #d4ebff;}#sk-container-id-1 div.sk-parallel-item::after {content: \"\";width: 100%;border-bottom: 1px solid gray;flex-grow: 1;}#sk-container-id-1 div.sk-label:hover label.sk-toggleable__label {background-color: #d4ebff;}#sk-container-id-1 div.sk-serial::before {content: \"\";position: absolute;border-left: 1px solid gray;box-sizing: border-box;top: 0;bottom: 0;left: 50%;z-index: 0;}#sk-container-id-1 div.sk-serial {display: flex;flex-direction: column;align-items: center;background-color: white;padding-right: 0.2em;padding-left: 0.2em;position: relative;}#sk-container-id-1 div.sk-item {position: relative;z-index: 1;}#sk-container-id-1 div.sk-parallel {display: flex;align-items: stretch;justify-content: center;background-color: white;position: relative;}#sk-container-id-1 div.sk-item::before, #sk-container-id-1 div.sk-parallel-item::before {content: \"\";position: absolute;border-left: 1px solid gray;box-sizing: border-box;top: 0;bottom: 0;left: 50%;z-index: -1;}#sk-container-id-1 div.sk-parallel-item {display: flex;flex-direction: column;z-index: 1;position: relative;background-color: white;}#sk-container-id-1 div.sk-parallel-item:first-child::after {align-self: flex-end;width: 50%;}#sk-container-id-1 div.sk-parallel-item:last-child::after {align-self: flex-start;width: 50%;}#sk-container-id-1 div.sk-parallel-item:only-child::after {width: 0;}#sk-container-id-1 div.sk-dashed-wrapped {border: 1px dashed gray;margin: 0 0.4em 0.5em 0.4em;box-sizing: border-box;padding-bottom: 0.4em;background-color: white;}#sk-container-id-1 div.sk-label label {font-family: monospace;font-weight: bold;display: inline-block;line-height: 1.2em;}#sk-container-id-1 div.sk-label-container {text-align: center;}#sk-container-id-1 div.sk-container {/* jupyter's `normalize.less` sets `[hidden] { display: none; }` but bootstrap.min.css set `[hidden] { display: none !important; }` so we also need the `!important` here to be able to override the default hidden behavior on the sphinx rendered scikit-learn.org. See: https://github.com/scikit-learn/scikit-learn/issues/21755 */display: inline-block !important;position: relative;}#sk-container-id-1 div.sk-text-repr-fallback {display: none;}</style><div id=\"sk-container-id-1\" class=\"sk-top-container\"><div class=\"sk-text-repr-fallback\"><pre>RandomForestClassifier(random_state=10)</pre><b>In a Jupyter environment, please rerun this cell to show the HTML representation or trust the notebook. <br />On GitHub, the HTML representation is unable to render, please try loading this page with nbviewer.org.</b></div><div class=\"sk-container\" hidden><div class=\"sk-item\"><div class=\"sk-estimator sk-toggleable\"><input class=\"sk-toggleable__control sk-hidden--visually\" id=\"sk-estimator-id-1\" type=\"checkbox\" checked><label for=\"sk-estimator-id-1\" class=\"sk-toggleable__label sk-toggleable__label-arrow\">RandomForestClassifier</label><div class=\"sk-toggleable__content\"><pre>RandomForestClassifier(random_state=10)</pre></div></div></div></div></div>"
            ]
          },
          "metadata": {},
          "execution_count": 29
        }
      ]
    },
    {
      "cell_type": "markdown",
      "source": [
        "### Evaluate"
      ],
      "metadata": {
        "id": "a6WxxdFnLHS9"
      }
    },
    {
      "cell_type": "code",
      "source": [
        "# Evaluate metric for binary\n",
        "from sklearn.metrics import precision_score, recall_score, f1_score, accuracy_score\n",
        "def evaluate_metric(y_test, y_pred):\n",
        "    print('Precision: %.4f' % precision_score(y_test, y_pred, average='weighted'))\n",
        "    print('Recall: %.4f' % recall_score(y_test, y_pred, average='weighted'))\n",
        "    print('F1: %.4f' % f1_score(y_test, y_pred, average='weighted'))\n",
        "    print('Accuracy: %.4f' % accuracy_score(y_test, y_pred))"
      ],
      "metadata": {
        "id": "Z2_k2FOKuBlG"
      },
      "execution_count": null,
      "outputs": []
    },
    {
      "cell_type": "code",
      "source": [
        "y_pred = clf.predict(x_test)"
      ],
      "metadata": {
        "id": "9SyfJnshKROu"
      },
      "execution_count": null,
      "outputs": []
    },
    {
      "cell_type": "code",
      "source": [
        "evaluate_metric(y_test, y_pred)"
      ],
      "metadata": {
        "colab": {
          "base_uri": "https://localhost:8080/"
        },
        "id": "29b9Rc5suXtO",
        "outputId": "b0622035-c0ab-4fca-a43b-02353ac5872e"
      },
      "execution_count": null,
      "outputs": [
        {
          "output_type": "stream",
          "name": "stdout",
          "text": [
            "Precision: 0.9978\n",
            "Recall: 0.9978\n",
            "F1: 0.9978\n",
            "Accuracy: 0.9978\n"
          ]
        }
      ]
    },
    {
      "cell_type": "code",
      "source": [
        "from sklearn.metrics import confusion_matrix\n",
        "import matplotlib.pyplot as plt\n",
        "import seaborn as sns\n",
        "\n",
        "columns = [\n",
        "    'BENIGN',\n",
        "    'DoS Hulk',\n",
        "    'DoS GoldenEye',\n",
        "    'DoS slowloris',\n",
        "    'DoS Slowhttptest',\n",
        "    'DDoS',\n",
        "    'PortScan',\n",
        "    'FTP-Patator',\n",
        "    'SSH-Patator',\n",
        "    'Web Attack',\n",
        "    'Bot',\n",
        "    'Infiltration',\n",
        "    'Heartbleed']\n",
        "\n",
        "fig, ax = plt.subplots(figsize=(20,15))\n",
        "cf_matrix = confusion_matrix(y_test, y_pred, normalize='true')\n",
        "sns.heatmap(cf_matrix, fmt='.0%', annot=True, ax=ax, linewidths=0.5, xticklabels=columns, yticklabels=columns)"
      ],
      "metadata": {
        "id": "jHkf8fxVOnf1",
        "colab": {
          "base_uri": "https://localhost:8080/",
          "height": 886
        },
        "outputId": "7b74b6c8-846a-4a10-9254-87f2571d8e51"
      },
      "execution_count": null,
      "outputs": [
        {
          "output_type": "execute_result",
          "data": {
            "text/plain": [
              "<Axes: >"
            ]
          },
          "metadata": {},
          "execution_count": 38
        },
        {
          "output_type": "display_data",
          "data": {
            "text/plain": [
              "<Figure size 2000x1500 with 2 Axes>"
            ],
            "image/png": "[encoded data removed]"
          },
          "metadata": {}
        }
      ]
    },
    {
      "cell_type": "code",
      "source": [
        "# Accuracy for each class\n",
        "cf_matrix.diagonal()/cf_matrix.sum(axis=1)"
      ],
      "metadata": {
        "colab": {
          "base_uri": "https://localhost:8080/"
        },
        "id": "Y5CJ6F7sAg4P",
        "outputId": "7cd7e7cb-77ca-449f-8c6f-04dcd312964f"
      },
      "execution_count": null,
      "outputs": [
        {
          "output_type": "execute_result",
          "data": {
            "text/plain": [
              "array([0.99894986, 0.98607188, 0.99612027, 0.99667498, 0.98995434,\n",
              "       0.99968658, 0.99977996, 0.99939099, 0.98337708, 0.9       ,\n",
              "       0.90656566, 0.42857143, 1.        ])"
            ]
          },
          "metadata": {},
          "execution_count": 39
        }
      ]
    },
    {
      "cell_type": "markdown",
      "source": [
        "## RF - NO SMOTE"
      ],
      "metadata": {
        "id": "IovAf37VFrmZ"
      }
    },
    {
      "cell_type": "code",
      "source": [
        "x_train, x_test, y_train, y_test = train_test_split(df_main, df_label, test_size=0.4, random_state=10)\n",
        "clf = RandomForestClassifier(random_state = 10)\n",
        "clf.fit(x_train, y_train)"
      ],
      "metadata": {
        "colab": {
          "base_uri": "https://localhost:8080/",
          "height": 74
        },
        "id": "qlf2_gXtF4jY",
        "outputId": "e7aa6ce7-9728-44ee-82b1-2880b06cad2e"
      },
      "execution_count": null,
      "outputs": [
        {
          "output_type": "execute_result",
          "data": {
            "text/plain": [
              "RandomForestClassifier(random_state=10)"
            ],
            "text/html": [
              "<style>#sk-container-id-1 {color: black;background-color: white;}#sk-container-id-1 pre{padding: 0;}#sk-container-id-1 div.sk-toggleable {background-color: white;}#sk-container-id-1 label.sk-toggleable__label {cursor: pointer;display: block;width: 100%;margin-bottom: 0;padding: 0.3em;box-sizing: border-box;text-align: center;}#sk-container-id-1 label.sk-toggleable__label-arrow:before {content: \"▸\";float: left;margin-right: 0.25em;color: #696969;}#sk-container-id-1 label.sk-toggleable__label-arrow:hover:before {color: black;}#sk-container-id-1 div.sk-estimator:hover label.sk-toggleable__label-arrow:before {color: black;}#sk-container-id-1 div.sk-toggleable__content {max-height: 0;max-width: 0;overflow: hidden;text-align: left;background-color: #f0f8ff;}#sk-container-id-1 div.sk-toggleable__content pre {margin: 0.2em;color: black;border-radius: 0.25em;background-color: #f0f8ff;}#sk-container-id-1 input.sk-toggleable__control:checked~div.sk-toggleable__content {max-height: 200px;max-width: 100%;overflow: auto;}#sk-container-id-1 input.sk-toggleable__control:checked~label.sk-toggleable__label-arrow:before {content: \"▾\";}#sk-container-id-1 div.sk-estimator input.sk-toggleable__control:checked~label.sk-toggleable__label {background-color: #d4ebff;}#sk-container-id-1 div.sk-label input.sk-toggleable__control:checked~label.sk-toggleable__label {background-color: #d4ebff;}#sk-container-id-1 input.sk-hidden--visually {border: 0;clip: rect(1px 1px 1px 1px);clip: rect(1px, 1px, 1px, 1px);height: 1px;margin: -1px;overflow: hidden;padding: 0;position: absolute;width: 1px;}#sk-container-id-1 div.sk-estimator {font-family: monospace;background-color: #f0f8ff;border: 1px dotted black;border-radius: 0.25em;box-sizing: border-box;margin-bottom: 0.5em;}#sk-container-id-1 div.sk-estimator:hover {background-color: #d4ebff;}#sk-container-id-1 div.sk-parallel-item::after {content: \"\";width: 100%;border-bottom: 1px solid gray;flex-grow: 1;}#sk-container-id-1 div.sk-label:hover label.sk-toggleable__label {background-color: #d4ebff;}#sk-container-id-1 div.sk-serial::before {content: \"\";position: absolute;border-left: 1px solid gray;box-sizing: border-box;top: 0;bottom: 0;left: 50%;z-index: 0;}#sk-container-id-1 div.sk-serial {display: flex;flex-direction: column;align-items: center;background-color: white;padding-right: 0.2em;padding-left: 0.2em;position: relative;}#sk-container-id-1 div.sk-item {position: relative;z-index: 1;}#sk-container-id-1 div.sk-parallel {display: flex;align-items: stretch;justify-content: center;background-color: white;position: relative;}#sk-container-id-1 div.sk-item::before, #sk-container-id-1 div.sk-parallel-item::before {content: \"\";position: absolute;border-left: 1px solid gray;box-sizing: border-box;top: 0;bottom: 0;left: 50%;z-index: -1;}#sk-container-id-1 div.sk-parallel-item {display: flex;flex-direction: column;z-index: 1;position: relative;background-color: white;}#sk-container-id-1 div.sk-parallel-item:first-child::after {align-self: flex-end;width: 50%;}#sk-container-id-1 div.sk-parallel-item:last-child::after {align-self: flex-start;width: 50%;}#sk-container-id-1 div.sk-parallel-item:only-child::after {width: 0;}#sk-container-id-1 div.sk-dashed-wrapped {border: 1px dashed gray;margin: 0 0.4em 0.5em 0.4em;box-sizing: border-box;padding-bottom: 0.4em;background-color: white;}#sk-container-id-1 div.sk-label label {font-family: monospace;font-weight: bold;display: inline-block;line-height: 1.2em;}#sk-container-id-1 div.sk-label-container {text-align: center;}#sk-container-id-1 div.sk-container {/* jupyter's `normalize.less` sets `[hidden] { display: none; }` but bootstrap.min.css set `[hidden] { display: none !important; }` so we also need the `!important` here to be able to override the default hidden behavior on the sphinx rendered scikit-learn.org. See: https://github.com/scikit-learn/scikit-learn/issues/21755 */display: inline-block !important;position: relative;}#sk-container-id-1 div.sk-text-repr-fallback {display: none;}</style><div id=\"sk-container-id-1\" class=\"sk-top-container\"><div class=\"sk-text-repr-fallback\"><pre>RandomForestClassifier(random_state=10)</pre><b>In a Jupyter environment, please rerun this cell to show the HTML representation or trust the notebook. <br />On GitHub, the HTML representation is unable to render, please try loading this page with nbviewer.org.</b></div><div class=\"sk-container\" hidden><div class=\"sk-item\"><div class=\"sk-estimator sk-toggleable\"><input class=\"sk-toggleable__control sk-hidden--visually\" id=\"sk-estimator-id-1\" type=\"checkbox\" checked><label for=\"sk-estimator-id-1\" class=\"sk-toggleable__label sk-toggleable__label-arrow\">RandomForestClassifier</label><div class=\"sk-toggleable__content\"><pre>RandomForestClassifier(random_state=10)</pre></div></div></div></div></div>"
            ]
          },
          "metadata": {},
          "execution_count": 23
        }
      ]
    },
    {
      "cell_type": "code",
      "source": [
        "# Evaluate metric for binary\n",
        "from sklearn.metrics import precision_score, recall_score, f1_score, accuracy_score\n",
        "def evaluate_metric(y_test, y_pred):\n",
        "    print('Precision: %.4f' % precision_score(y_test, y_pred, average='weighted'))\n",
        "    print('Recall: %.4f' % recall_score(y_test, y_pred, average='weighted'))\n",
        "    print('F1: %.4f' % f1_score(y_test, y_pred, average='weighted'))\n",
        "    print('Accuracy: %.4f' % accuracy_score(y_test, y_pred))"
      ],
      "metadata": {
        "id": "m6po4qzK4XJ1"
      },
      "execution_count": null,
      "outputs": []
    },
    {
      "cell_type": "code",
      "source": [
        "y_pred = clf.predict(x_test)"
      ],
      "metadata": {
        "id": "XOw9ZI0A4XJ9"
      },
      "execution_count": null,
      "outputs": []
    },
    {
      "cell_type": "code",
      "source": [
        "evaluate_metric(y_test, y_pred)"
      ],
      "metadata": {
        "colab": {
          "base_uri": "https://localhost:8080/"
        },
        "outputId": "8886b05c-4286-4d20-8397-f6c4ae96c0a4",
        "id": "XOP-yH9-4XJ9"
      },
      "execution_count": null,
      "outputs": [
        {
          "output_type": "stream",
          "name": "stdout",
          "text": [
            "Precision: 0.9982\n",
            "Recall: 0.9982\n",
            "F1: 0.9982\n",
            "Accuracy: 0.9982\n"
          ]
        }
      ]
    },
    {
      "cell_type": "code",
      "source": [
        "from sklearn.metrics import confusion_matrix\n",
        "import matplotlib.pyplot as plt\n",
        "import seaborn as sns\n",
        "\n",
        "columns = [\n",
        "    'BENIGN',\n",
        "    'DoS Hulk',\n",
        "    'DoS GoldenEye',\n",
        "    'DoS slowloris',\n",
        "    'DoS Slowhttptest',\n",
        "    'DDoS',\n",
        "    'PortScan',\n",
        "    'FTP-Patator',\n",
        "    'SSH-Patator',\n",
        "    'Web Attack',\n",
        "    'Bot',\n",
        "    'Infiltration',\n",
        "    'Heartbleed']\n",
        "\n",
        "fig, ax = plt.subplots(figsize=(15,10))\n",
        "cf_matrix = confusion_matrix(y_test, y_pred, normalize='true')\n",
        "sns.heatmap(cf_matrix, fmt='.0%', annot=True, ax=ax, linewidths=0.5, xticklabels=columns, yticklabels=columns)"
      ],
      "metadata": {
        "colab": {
          "base_uri": "https://localhost:8080/",
          "height": 803
        },
        "outputId": "5ab11f02-3f80-46d3-8b9e-3099786e4525",
        "id": "MosvVBbo4XJ9"
      },
      "execution_count": null,
      "outputs": [
        {
          "output_type": "execute_result",
          "data": {
            "text/plain": [
              "<Axes: >"
            ]
          },
          "metadata": {},
          "execution_count": 28
        },
        {
          "output_type": "display_data",
          "data": {
            "text/plain": [
              "<Figure size 1500x1000 with 2 Axes>"
            ],
            "image/png": "[encoded data removed]"
          },
          "metadata": {}
        }
      ]
    }
  ]
}